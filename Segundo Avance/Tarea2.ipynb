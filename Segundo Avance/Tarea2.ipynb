{
 "cells": [
  {
   "cell_type": "markdown",
   "id": "ba22bc9a",
   "metadata": {},
   "source": [
    "## Dataset"
   ]
  },
  {
   "cell_type": "code",
   "execution_count": 1,
   "id": "4ad4fb8d",
   "metadata": {},
   "outputs": [
    {
     "name": "stdout",
     "output_type": "stream",
     "text": [
      "(8719, 17)\n"
     ]
    },
    {
     "data": {
      "text/html": [
       "<div>\n",
       "<style scoped>\n",
       "    .dataframe tbody tr th:only-of-type {\n",
       "        vertical-align: middle;\n",
       "    }\n",
       "\n",
       "    .dataframe tbody tr th {\n",
       "        vertical-align: top;\n",
       "    }\n",
       "\n",
       "    .dataframe thead th {\n",
       "        text-align: right;\n",
       "    }\n",
       "</style>\n",
       "<table border=\"1\" class=\"dataframe\">\n",
       "  <thead>\n",
       "    <tr style=\"text-align: right;\">\n",
       "      <th></th>\n",
       "      <th>Unnamed: 0</th>\n",
       "      <th>id</th>\n",
       "      <th>country</th>\n",
       "      <th>media_outlet</th>\n",
       "      <th>url</th>\n",
       "      <th>title</th>\n",
       "      <th>text</th>\n",
       "      <th>date</th>\n",
       "      <th>year</th>\n",
       "      <th>id_journalist</th>\n",
       "      <th>Document_No</th>\n",
       "      <th>Dominant_Topic</th>\n",
       "      <th>Topic_Perc_Contrib</th>\n",
       "      <th>Keywords</th>\n",
       "      <th>Text</th>\n",
       "      <th>target_topic</th>\n",
       "      <th>Unnamed: 0.1</th>\n",
       "    </tr>\n",
       "  </thead>\n",
       "  <tbody>\n",
       "    <tr>\n",
       "      <th>0</th>\n",
       "      <td>0</td>\n",
       "      <td>12095877</td>\n",
       "      <td>chile</td>\n",
       "      <td>emol</td>\n",
       "      <td>https://www.emol.com/noticias/Economia/2021/02...</td>\n",
       "      <td>El clima de negocios en Latinoamérica sigue de...</td>\n",
       "      <td>Según los últimos resultados del  Indicador de...</td>\n",
       "      <td>2021-02-28</td>\n",
       "      <td>NaN</td>\n",
       "      <td>NaN</td>\n",
       "      <td>0.0</td>\n",
       "      <td>3.0</td>\n",
       "      <td>0.7108</td>\n",
       "      <td>millón, ano, mas, nuevo, mayor, aumentar, vacu...</td>\n",
       "      <td>['ultimos', 'resultar', 'indicador', 'clima', ...</td>\n",
       "      <td>Economia</td>\n",
       "      <td>NaN</td>\n",
       "    </tr>\n",
       "    <tr>\n",
       "      <th>1</th>\n",
       "      <td>1</td>\n",
       "      <td>12095927</td>\n",
       "      <td>chile</td>\n",
       "      <td>emol</td>\n",
       "      <td>https://www.emol.com/noticias/Economia/2021/02...</td>\n",
       "      <td>Economista David Bravo advierte: \"Cuando retom...</td>\n",
       "      <td>La pérdida de impulso en la recuperación de em...</td>\n",
       "      <td>2021-02-27</td>\n",
       "      <td>NaN</td>\n",
       "      <td>NaN</td>\n",
       "      <td>1.0</td>\n",
       "      <td>1.0</td>\n",
       "      <td>0.4646</td>\n",
       "      <td>hacer, decir, ser, poder, tambien, presidente,...</td>\n",
       "      <td>['perdido', 'efectividad', 'apoyo', 'entregar'...</td>\n",
       "      <td>Economia</td>\n",
       "      <td>NaN</td>\n",
       "    </tr>\n",
       "    <tr>\n",
       "      <th>2</th>\n",
       "      <td>2</td>\n",
       "      <td>12095975</td>\n",
       "      <td>chile</td>\n",
       "      <td>emol</td>\n",
       "      <td>https://www.emol.com/noticias/Economia/2021/02...</td>\n",
       "      <td>Sofofa llama a \"respaldar\" y \"dar legitimidad\"...</td>\n",
       "      <td>A través de una carta dirigida a las principal...</td>\n",
       "      <td>2021-02-27</td>\n",
       "      <td>NaN</td>\n",
       "      <td>NaN</td>\n",
       "      <td>2.0</td>\n",
       "      <td>1.0</td>\n",
       "      <td>0.5757</td>\n",
       "      <td>hacer, decir, ser, poder, tambien, presidente,...</td>\n",
       "      <td>['dirigir', 'principal', 'autoridad', 'politic...</td>\n",
       "      <td>Economia</td>\n",
       "      <td>NaN</td>\n",
       "    </tr>\n",
       "    <tr>\n",
       "      <th>3</th>\n",
       "      <td>3</td>\n",
       "      <td>12096020</td>\n",
       "      <td>chile</td>\n",
       "      <td>emol</td>\n",
       "      <td>https://www.emol.com/noticias/Economia/2021/02...</td>\n",
       "      <td>Cencosud nombra como presidenta interina a Hei...</td>\n",
       "      <td>El holding chileno  Cencosud  informó que su d...</td>\n",
       "      <td>2021-02-26</td>\n",
       "      <td>NaN</td>\n",
       "      <td>NaN</td>\n",
       "      <td>3.0</td>\n",
       "      <td>1.0</td>\n",
       "      <td>0.3779</td>\n",
       "      <td>hacer, decir, ser, poder, tambien, presidente,...</td>\n",
       "      <td>['holding', 'chileno', 'informar', 'nombrar', ...</td>\n",
       "      <td>Economia</td>\n",
       "      <td>NaN</td>\n",
       "    </tr>\n",
       "  </tbody>\n",
       "</table>\n",
       "</div>"
      ],
      "text/plain": [
       "   Unnamed: 0        id country media_outlet  \\\n",
       "0           0  12095877   chile         emol   \n",
       "1           1  12095927   chile         emol   \n",
       "2           2  12095975   chile         emol   \n",
       "3           3  12096020   chile         emol   \n",
       "\n",
       "                                                 url  \\\n",
       "0  https://www.emol.com/noticias/Economia/2021/02...   \n",
       "1  https://www.emol.com/noticias/Economia/2021/02...   \n",
       "2  https://www.emol.com/noticias/Economia/2021/02...   \n",
       "3  https://www.emol.com/noticias/Economia/2021/02...   \n",
       "\n",
       "                                               title  \\\n",
       "0  El clima de negocios en Latinoamérica sigue de...   \n",
       "1  Economista David Bravo advierte: \"Cuando retom...   \n",
       "2  Sofofa llama a \"respaldar\" y \"dar legitimidad\"...   \n",
       "3  Cencosud nombra como presidenta interina a Hei...   \n",
       "\n",
       "                                                text        date  year  \\\n",
       "0  Según los últimos resultados del  Indicador de...  2021-02-28   NaN   \n",
       "1  La pérdida de impulso en la recuperación de em...  2021-02-27   NaN   \n",
       "2  A través de una carta dirigida a las principal...  2021-02-27   NaN   \n",
       "3  El holding chileno  Cencosud  informó que su d...  2021-02-26   NaN   \n",
       "\n",
       "   id_journalist  Document_No  Dominant_Topic  Topic_Perc_Contrib  \\\n",
       "0            NaN          0.0             3.0              0.7108   \n",
       "1            NaN          1.0             1.0              0.4646   \n",
       "2            NaN          2.0             1.0              0.5757   \n",
       "3            NaN          3.0             1.0              0.3779   \n",
       "\n",
       "                                            Keywords  \\\n",
       "0  millón, ano, mas, nuevo, mayor, aumentar, vacu...   \n",
       "1  hacer, decir, ser, poder, tambien, presidente,...   \n",
       "2  hacer, decir, ser, poder, tambien, presidente,...   \n",
       "3  hacer, decir, ser, poder, tambien, presidente,...   \n",
       "\n",
       "                                                Text target_topic  \\\n",
       "0  ['ultimos', 'resultar', 'indicador', 'clima', ...     Economia   \n",
       "1  ['perdido', 'efectividad', 'apoyo', 'entregar'...     Economia   \n",
       "2  ['dirigir', 'principal', 'autoridad', 'politic...     Economia   \n",
       "3  ['holding', 'chileno', 'informar', 'nombrar', ...     Economia   \n",
       "\n",
       "   Unnamed: 0.1  \n",
       "0           NaN  \n",
       "1           NaN  \n",
       "2           NaN  \n",
       "3           NaN  "
      ]
     },
     "execution_count": 1,
     "metadata": {},
     "output_type": "execute_result"
    }
   ],
   "source": [
    "import pandas as pd\n",
    "df = pd.read_csv('data.csv')\n",
    "print(df.shape)\n",
    "df.head(4)"
   ]
  },
  {
   "cell_type": "code",
   "execution_count": 2,
   "id": "c56334b3",
   "metadata": {},
   "outputs": [
    {
     "data": {
      "text/html": [
       "<div>\n",
       "<style scoped>\n",
       "    .dataframe tbody tr th:only-of-type {\n",
       "        vertical-align: middle;\n",
       "    }\n",
       "\n",
       "    .dataframe tbody tr th {\n",
       "        vertical-align: top;\n",
       "    }\n",
       "\n",
       "    .dataframe thead th {\n",
       "        text-align: right;\n",
       "    }\n",
       "</style>\n",
       "<table border=\"1\" class=\"dataframe\">\n",
       "  <thead>\n",
       "    <tr style=\"text-align: right;\">\n",
       "      <th></th>\n",
       "      <th>title</th>\n",
       "      <th>text</th>\n",
       "      <th>target_topic</th>\n",
       "    </tr>\n",
       "  </thead>\n",
       "  <tbody>\n",
       "    <tr>\n",
       "      <th>0</th>\n",
       "      <td>El clima de negocios en Latinoamérica sigue de...</td>\n",
       "      <td>Según los últimos resultados del  Indicador de...</td>\n",
       "      <td>Economia</td>\n",
       "    </tr>\n",
       "    <tr>\n",
       "      <th>1</th>\n",
       "      <td>Economista David Bravo advierte: \"Cuando retom...</td>\n",
       "      <td>La pérdida de impulso en la recuperación de em...</td>\n",
       "      <td>Economia</td>\n",
       "    </tr>\n",
       "    <tr>\n",
       "      <th>2</th>\n",
       "      <td>Sofofa llama a \"respaldar\" y \"dar legitimidad\"...</td>\n",
       "      <td>A través de una carta dirigida a las principal...</td>\n",
       "      <td>Economia</td>\n",
       "    </tr>\n",
       "    <tr>\n",
       "      <th>3</th>\n",
       "      <td>Cencosud nombra como presidenta interina a Hei...</td>\n",
       "      <td>El holding chileno  Cencosud  informó que su d...</td>\n",
       "      <td>Economia</td>\n",
       "    </tr>\n",
       "    <tr>\n",
       "      <th>4</th>\n",
       "      <td>Palacios dice que inicio económico de 2021 \"no...</td>\n",
       "      <td>\" El inicio de año no será fácil pues tiene un...</td>\n",
       "      <td>Economia</td>\n",
       "    </tr>\n",
       "    <tr>\n",
       "      <th>...</th>\n",
       "      <td>...</td>\n",
       "      <td>...</td>\n",
       "      <td>...</td>\n",
       "    </tr>\n",
       "    <tr>\n",
       "      <th>8714</th>\n",
       "      <td>Doctor Ugarte y viaje de Cecilia Morel a Miami...</td>\n",
       "      <td>El doctor y jefe de la Unidad de Cuidados Inte...</td>\n",
       "      <td>Cultura y Artes</td>\n",
       "    </tr>\n",
       "    <tr>\n",
       "      <th>8715</th>\n",
       "      <td>Declaran culpable por el delito de fraude al F...</td>\n",
       "      <td>Este viernes, el Tribunal Oral en lo Penal de ...</td>\n",
       "      <td>Crimen, delitos y justicia</td>\n",
       "    </tr>\n",
       "    <tr>\n",
       "      <th>8716</th>\n",
       "      <td>\"Se quedó solo en este mundo\": El conmovedor m...</td>\n",
       "      <td>El chófer de una ambulancia que trasladó a un ...</td>\n",
       "      <td>Catástrofes y Accidentes</td>\n",
       "    </tr>\n",
       "    <tr>\n",
       "      <th>8717</th>\n",
       "      <td>Padre del diputado RN Jorge Durán es apuñalado...</td>\n",
       "      <td>Con una herida cortopunzante terminó el papá d...</td>\n",
       "      <td>Cultura y Artes</td>\n",
       "    </tr>\n",
       "    <tr>\n",
       "      <th>8718</th>\n",
       "      <td>A un año del primer caso de covid-19 notificad...</td>\n",
       "      <td>Estados Unidos registró este miércoles casi 4....</td>\n",
       "      <td>Crimen, delitos y justicia</td>\n",
       "    </tr>\n",
       "  </tbody>\n",
       "</table>\n",
       "<p>8719 rows × 3 columns</p>\n",
       "</div>"
      ],
      "text/plain": [
       "                                                  title  \\\n",
       "0     El clima de negocios en Latinoamérica sigue de...   \n",
       "1     Economista David Bravo advierte: \"Cuando retom...   \n",
       "2     Sofofa llama a \"respaldar\" y \"dar legitimidad\"...   \n",
       "3     Cencosud nombra como presidenta interina a Hei...   \n",
       "4     Palacios dice que inicio económico de 2021 \"no...   \n",
       "...                                                 ...   \n",
       "8714  Doctor Ugarte y viaje de Cecilia Morel a Miami...   \n",
       "8715  Declaran culpable por el delito de fraude al F...   \n",
       "8716  \"Se quedó solo en este mundo\": El conmovedor m...   \n",
       "8717  Padre del diputado RN Jorge Durán es apuñalado...   \n",
       "8718  A un año del primer caso de covid-19 notificad...   \n",
       "\n",
       "                                                   text  \\\n",
       "0     Según los últimos resultados del  Indicador de...   \n",
       "1     La pérdida de impulso en la recuperación de em...   \n",
       "2     A través de una carta dirigida a las principal...   \n",
       "3     El holding chileno  Cencosud  informó que su d...   \n",
       "4     \" El inicio de año no será fácil pues tiene un...   \n",
       "...                                                 ...   \n",
       "8714  El doctor y jefe de la Unidad de Cuidados Inte...   \n",
       "8715  Este viernes, el Tribunal Oral en lo Penal de ...   \n",
       "8716  El chófer de una ambulancia que trasladó a un ...   \n",
       "8717  Con una herida cortopunzante terminó el papá d...   \n",
       "8718  Estados Unidos registró este miércoles casi 4....   \n",
       "\n",
       "                    target_topic  \n",
       "0                       Economia  \n",
       "1                       Economia  \n",
       "2                       Economia  \n",
       "3                       Economia  \n",
       "4                       Economia  \n",
       "...                          ...  \n",
       "8714             Cultura y Artes  \n",
       "8715  Crimen, delitos y justicia  \n",
       "8716    Catástrofes y Accidentes  \n",
       "8717             Cultura y Artes  \n",
       "8718  Crimen, delitos y justicia  \n",
       "\n",
       "[8719 rows x 3 columns]"
      ]
     },
     "execution_count": 2,
     "metadata": {},
     "output_type": "execute_result"
    }
   ],
   "source": [
    "# Columnas importantes\n",
    "data = df[['title', 'text', 'target_topic']]\n",
    "data"
   ]
  },
  {
   "cell_type": "markdown",
   "id": "875dfe8c",
   "metadata": {},
   "source": [
    "1- Mundo, 2- Economía, 3- Política y Conflictos, 4- Ciencias y Tecnología, 5- Catástrofes y Accidentes, 6- Cultura y Artes, 7- Deporte, 8- Ecología y Planeta, 9- Crimen, delitos y Justicia, 10- Salud"
   ]
  },
  {
   "cell_type": "markdown",
   "id": "3aa30245",
   "metadata": {},
   "source": [
    "### Distribución de datos"
   ]
  },
  {
   "cell_type": "code",
   "execution_count": 3,
   "id": "a3cf4053",
   "metadata": {},
   "outputs": [
    {
     "data": {
      "text/plain": [
       "Crimen, delitos y justicia    1791\n",
       "Cultura y Artes               1589\n",
       "Politica y Conflictos         1429\n",
       "Deporte                       1185\n",
       "Economia                       791\n",
       "Ciencias y Tecnologia          622\n",
       "Salud                          346\n",
       "Mundo                          344\n",
       "Ecologia                       314\n",
       "Catástrofes y Accidentes       308\n",
       "Name: target_topic, dtype: int64"
      ]
     },
     "execution_count": 3,
     "metadata": {},
     "output_type": "execute_result"
    }
   ],
   "source": [
    "data.target_topic.value_counts()"
   ]
  },
  {
   "cell_type": "code",
   "execution_count": 4,
   "id": "e28df042",
   "metadata": {},
   "outputs": [
    {
     "data": {
      "image/png": "[encoded data removed]",
      "text/plain": [
       "<Figure size 432x288 with 1 Axes>"
      ]
     },
     "metadata": {
      "needs_background": "light"
     },
     "output_type": "display_data"
    }
   ],
   "source": [
    "import warnings\n",
    "warnings.filterwarnings(\"ignore\")\n",
    "import seaborn as sns\n",
    "chart = sns.countplot(data.target_topic)\n",
    "chart.set_xticklabels(chart.get_xticklabels(), rotation=45, horizontalalignment='right')\n",
    "None"
   ]
  },
  {
   "cell_type": "code",
   "execution_count": 5,
   "id": "7968e008",
   "metadata": {},
   "outputs": [
    {
     "data": {
      "text/plain": [
       "Catástrofes y Accidentes      308\n",
       "Ciencias y Tecnologia         308\n",
       "Crimen, delitos y justicia    308\n",
       "Cultura y Artes               308\n",
       "Deporte                       308\n",
       "Ecologia                      308\n",
       "Economia                      308\n",
       "Mundo                         308\n",
       "Politica y Conflictos         308\n",
       "Salud                         308\n",
       "Name: target_topic, dtype: int64"
      ]
     },
     "execution_count": 5,
     "metadata": {},
     "output_type": "execute_result"
    }
   ],
   "source": [
    "data_final = data.groupby('target_topic').sample(n=308, random_state=2)\n",
    "data_final.target_topic.value_counts()"
   ]
  },
  {
   "cell_type": "code",
   "execution_count": 6,
   "id": "0974d99b",
   "metadata": {},
   "outputs": [
    {
     "data": {
      "image/png": "[encoded data removed]",
      "text/plain": [
       "<Figure size 432x288 with 1 Axes>"
      ]
     },
     "metadata": {
      "needs_background": "light"
     },
     "output_type": "display_data"
    }
   ],
   "source": [
    "import warnings\n",
    "warnings.filterwarnings(\"ignore\")\n",
    "import seaborn as sns\n",
    "chart = sns.countplot(data_final.target_topic)\n",
    "chart.set_xticklabels(chart.get_xticklabels(), rotation=45, horizontalalignment='right')\n",
    "None"
   ]
  },
  {
   "cell_type": "code",
   "execution_count": 7,
   "id": "8a7a3674",
   "metadata": {},
   "outputs": [],
   "source": [
    "data = data_final"
   ]
  },
  {
   "cell_type": "markdown",
   "id": "53459833",
   "metadata": {},
   "source": [
    "### Label encoding"
   ]
  },
  {
   "cell_type": "code",
   "execution_count": 8,
   "id": "8f0ffcd2",
   "metadata": {},
   "outputs": [],
   "source": [
    "from sklearn import preprocessing \n",
    "label_encoder = preprocessing.LabelEncoder() \n",
    "data['topic_num']= label_encoder.fit_transform(data['target_topic']) "
   ]
  },
  {
   "cell_type": "code",
   "execution_count": 9,
   "id": "fcc9f68b",
   "metadata": {},
   "outputs": [
    {
     "data": {
      "text/html": [
       "<div>\n",
       "<style scoped>\n",
       "    .dataframe tbody tr th:only-of-type {\n",
       "        vertical-align: middle;\n",
       "    }\n",
       "\n",
       "    .dataframe tbody tr th {\n",
       "        vertical-align: top;\n",
       "    }\n",
       "\n",
       "    .dataframe thead th {\n",
       "        text-align: right;\n",
       "    }\n",
       "</style>\n",
       "<table border=\"1\" class=\"dataframe\">\n",
       "  <thead>\n",
       "    <tr style=\"text-align: right;\">\n",
       "      <th></th>\n",
       "      <th>title</th>\n",
       "      <th>text</th>\n",
       "      <th>target_topic</th>\n",
       "      <th>topic_num</th>\n",
       "    </tr>\n",
       "  </thead>\n",
       "  <tbody>\n",
       "    <tr>\n",
       "      <th>7204</th>\n",
       "      <td>Dos hombres mueren en accidente en Valdivia: c...</td>\n",
       "      <td>La madrugada de este sábado, dos hombres de 24...</td>\n",
       "      <td>Catástrofes y Accidentes</td>\n",
       "      <td>0</td>\n",
       "    </tr>\n",
       "    <tr>\n",
       "      <th>8362</th>\n",
       "      <td>Diputada Cicardini sufre accidente automovilís...</td>\n",
       "      <td>Este miércoles, la diputada del Partido Social...</td>\n",
       "      <td>Catástrofes y Accidentes</td>\n",
       "      <td>0</td>\n",
       "    </tr>\n",
       "    <tr>\n",
       "      <th>4874</th>\n",
       "      <td>Accidente aéreo en Indonesia: Rescatistas hall...</td>\n",
       "      <td>Rescatistas de  Indonesia  recuperaron  restos...</td>\n",
       "      <td>Catástrofes y Accidentes</td>\n",
       "      <td>0</td>\n",
       "    </tr>\n",
       "    <tr>\n",
       "      <th>5916</th>\n",
       "      <td>Acusan error en alcotest en fatal accidente en...</td>\n",
       "      <td>En prisión preventiva quedó el joven de 20 año...</td>\n",
       "      <td>Catástrofes y Accidentes</td>\n",
       "      <td>0</td>\n",
       "    </tr>\n",
       "    <tr>\n",
       "      <th>7757</th>\n",
       "      <td>Un milagro: Placa de dos toneladas cayó a cent...</td>\n",
       "      <td>Un verdadero milagro es lo que vivió un hombre...</td>\n",
       "      <td>Catástrofes y Accidentes</td>\n",
       "      <td>0</td>\n",
       "    </tr>\n",
       "    <tr>\n",
       "      <th>...</th>\n",
       "      <td>...</td>\n",
       "      <td>...</td>\n",
       "      <td>...</td>\n",
       "      <td>...</td>\n",
       "    </tr>\n",
       "    <tr>\n",
       "      <th>1101</th>\n",
       "      <td>Accidentes en playas durante diciembre-enero b...</td>\n",
       "      <td>Una  notoria baja en los accidentes de playas ...</td>\n",
       "      <td>Salud</td>\n",
       "      <td>9</td>\n",
       "    </tr>\n",
       "    <tr>\n",
       "      <th>3094</th>\n",
       "      <td>Jóvenes entre 20 y 39 años son el 40% de los n...</td>\n",
       "      <td>Los jóvenes son un gran porcentaje de los cont...</td>\n",
       "      <td>Salud</td>\n",
       "      <td>9</td>\n",
       "    </tr>\n",
       "    <tr>\n",
       "      <th>4018</th>\n",
       "      <td>Informe Epidemiológico: Seis comunas del país ...</td>\n",
       "      <td>El  Ministerio de Salud (Minsal)  entregó este...</td>\n",
       "      <td>Salud</td>\n",
       "      <td>9</td>\n",
       "    </tr>\n",
       "    <tr>\n",
       "      <th>2748</th>\n",
       "      <td>Tras saturación de hospitales, República Checa...</td>\n",
       "      <td>Con cifras récord de enfermos de covid-19, que...</td>\n",
       "      <td>Salud</td>\n",
       "      <td>9</td>\n",
       "    </tr>\n",
       "    <tr>\n",
       "      <th>37</th>\n",
       "      <td>Gimnasios abren sus puertas: Las medidas que d...</td>\n",
       "      <td>#nota_tabla_emol .tablaennoticia tr td,#no...</td>\n",
       "      <td>Salud</td>\n",
       "      <td>9</td>\n",
       "    </tr>\n",
       "  </tbody>\n",
       "</table>\n",
       "<p>3080 rows × 4 columns</p>\n",
       "</div>"
      ],
      "text/plain": [
       "                                                  title  \\\n",
       "7204  Dos hombres mueren en accidente en Valdivia: c...   \n",
       "8362  Diputada Cicardini sufre accidente automovilís...   \n",
       "4874  Accidente aéreo en Indonesia: Rescatistas hall...   \n",
       "5916  Acusan error en alcotest en fatal accidente en...   \n",
       "7757  Un milagro: Placa de dos toneladas cayó a cent...   \n",
       "...                                                 ...   \n",
       "1101  Accidentes en playas durante diciembre-enero b...   \n",
       "3094  Jóvenes entre 20 y 39 años son el 40% de los n...   \n",
       "4018  Informe Epidemiológico: Seis comunas del país ...   \n",
       "2748  Tras saturación de hospitales, República Checa...   \n",
       "37    Gimnasios abren sus puertas: Las medidas que d...   \n",
       "\n",
       "                                                   text  \\\n",
       "7204  La madrugada de este sábado, dos hombres de 24...   \n",
       "8362  Este miércoles, la diputada del Partido Social...   \n",
       "4874  Rescatistas de  Indonesia  recuperaron  restos...   \n",
       "5916  En prisión preventiva quedó el joven de 20 año...   \n",
       "7757  Un verdadero milagro es lo que vivió un hombre...   \n",
       "...                                                 ...   \n",
       "1101  Una  notoria baja en los accidentes de playas ...   \n",
       "3094  Los jóvenes son un gran porcentaje de los cont...   \n",
       "4018  El  Ministerio de Salud (Minsal)  entregó este...   \n",
       "2748  Con cifras récord de enfermos de covid-19, que...   \n",
       "37        #nota_tabla_emol .tablaennoticia tr td,#no...   \n",
       "\n",
       "                  target_topic  topic_num  \n",
       "7204  Catástrofes y Accidentes          0  \n",
       "8362  Catástrofes y Accidentes          0  \n",
       "4874  Catástrofes y Accidentes          0  \n",
       "5916  Catástrofes y Accidentes          0  \n",
       "7757  Catástrofes y Accidentes          0  \n",
       "...                        ...        ...  \n",
       "1101                     Salud          9  \n",
       "3094                     Salud          9  \n",
       "4018                     Salud          9  \n",
       "2748                     Salud          9  \n",
       "37                       Salud          9  \n",
       "\n",
       "[3080 rows x 4 columns]"
      ]
     },
     "execution_count": 9,
     "metadata": {},
     "output_type": "execute_result"
    }
   ],
   "source": [
    "data"
   ]
  },
  {
   "cell_type": "markdown",
   "id": "c2ee8cf3",
   "metadata": {},
   "source": [
    "## Preprocesamiento"
   ]
  },
  {
   "cell_type": "markdown",
   "id": "5909e353",
   "metadata": {},
   "source": [
    "### Parsear texto"
   ]
  },
  {
   "cell_type": "code",
   "execution_count": 10,
   "id": "c3b40a12",
   "metadata": {},
   "outputs": [],
   "source": [
    "import re\n",
    "import nltk\n",
    "from nltk.corpus import stopwords\n",
    "from nltk.tokenize import word_tokenize\n",
    "\n",
    "def process_text(text):\n",
    "    text = text.lower().replace('\\n',' ').replace('\\r','').strip()\n",
    "    text = re.sub(' +', ' ', text)\n",
    "    text = re.sub(r'[^\\w\\s]','',text)\n",
    "    \n",
    "    \n",
    "    stop_words = set(stopwords.words('spanish')) \n",
    "    word_tokens = word_tokenize(text) \n",
    "    filtered_sentence = [] \n",
    "    for w in word_tokens: \n",
    "        if w not in stop_words: \n",
    "            filtered_sentence.append(w) \n",
    "    \n",
    "    text = \" \".join(filtered_sentence)\n",
    "    return text"
   ]
  },
  {
   "cell_type": "code",
   "execution_count": 11,
   "id": "ca5c96e8",
   "metadata": {},
   "outputs": [],
   "source": [
    "data['text_parsed'] = data['text'].apply(process_text)"
   ]
  },
  {
   "cell_type": "markdown",
   "id": "66b94d5d",
   "metadata": {},
   "source": [
    "### Partición de los datos"
   ]
  },
  {
   "cell_type": "code",
   "execution_count": 12,
   "id": "658dee2e",
   "metadata": {},
   "outputs": [],
   "source": [
    "from sklearn.model_selection import train_test_split\n",
    "\n",
    "X = data['text_parsed'] # the features we want to analyze\n",
    "ylabels = data['topic_num'] # the labels, or answers, we want to test against\n",
    "\n",
    "X_train, X_test, y_train, y_test = train_test_split(X, ylabels, test_size=0.3)"
   ]
  },
  {
   "cell_type": "code",
   "execution_count": 13,
   "id": "89b72db0",
   "metadata": {},
   "outputs": [],
   "source": [
    "from spacy.lang.es import Spanish\n",
    "\n",
    "\n",
    "# Create our list of punctuation marks\n",
    "punctuations = [\".\",\",\",\"!\",\"?\", \")\",\"(\",\"#\",\"&\",\" \", \":\", \"'\", \"$\", \"/\",'\"', \"}\",\"{\", \";\"]\n",
    "\n",
    "# Create our list of stopwords\n",
    "#stop_words=[\"\"]\n",
    "stop_words = set(stopwords.words('spanish'))\n",
    "\n",
    "# Load English tokenizer, tagger, parser, NER and word vectors\n",
    "parser = Spanish()\n",
    "\n",
    "# Creating our tokenizer function\n",
    "def spacy_tokenizer(sentence):\n",
    "    # Creating our token object, which is used to create documents with linguistic annotations.\n",
    "    mytokens = parser(sentence)\n",
    "\n",
    "    # Lemmatizing each token and converting each token into lowercase\n",
    "    mytokens = [word.lower_ for word in mytokens]\n",
    "        \n",
    "    # Removing stop words\n",
    "    mytokens = [ word for word in mytokens if word not in stop_words and word not in punctuations ]\n",
    "\n",
    "    # return preprocessed list of tokens\n",
    "    return mytokens"
   ]
  },
  {
   "cell_type": "markdown",
   "id": "f0eb041a",
   "metadata": {},
   "source": [
    "#### Vectorización de los textos en BoW o TF-IDF, con scikit-learn"
   ]
  },
  {
   "cell_type": "code",
   "execution_count": 14,
   "id": "583abf4e",
   "metadata": {},
   "outputs": [],
   "source": [
    "from sklearn.feature_extraction.text import CountVectorizer,TfidfVectorizer\n",
    "bow_vector = CountVectorizer(tokenizer = spacy_tokenizer, ngram_range=(1,1))\n",
    "tfidf_vector = TfidfVectorizer(tokenizer = spacy_tokenizer, ngram_range=(1,1))\n"
   ]
  },
  {
   "cell_type": "markdown",
   "id": "7a0116ff",
   "metadata": {},
   "source": [
    "## Entrenamiento "
   ]
  },
  {
   "cell_type": "code",
   "execution_count": 16,
   "id": "a1ec96de",
   "metadata": {},
   "outputs": [
    {
     "data": {
      "text/plain": [
       "Pipeline(steps=[('preprocessing',\n",
       "                 CountVectorizer(tokenizer=<function spacy_tokenizer at 0x7feecea69170>)),\n",
       "                ('regression-ML',\n",
       "                 LogisticRegression(max_iter=1000, multi_class='ovr',\n",
       "                                    random_state=42))])"
      ]
     },
     "execution_count": 16,
     "metadata": {},
     "output_type": "execute_result"
    }
   ],
   "source": [
    "from sklearn.linear_model import LogisticRegression # Regresion Logística\n",
    "from sklearn.pipeline import Pipeline\n",
    "\n",
    "# Logistic Regression Classifier\n",
    "modelLR = LogisticRegression(random_state = 42, multi_class = 'ovr', class_weight=None, max_iter=1000)\n",
    "\n",
    "# Create pipeline using Bag of Words\n",
    "model1 = Pipeline([('preprocessing', bow_vector),\n",
    "                 ('regression-ML', modelLR)])\n",
    "\n",
    "# model generation\n",
    "model1.fit(X_train,y_train)"
   ]
  },
  {
   "cell_type": "code",
   "execution_count": 17,
   "id": "bad84d21",
   "metadata": {},
   "outputs": [
    {
     "data": {
      "text/plain": [
       "Pipeline(steps=[('preprocessing',\n",
       "                 TfidfVectorizer(tokenizer=<function spacy_tokenizer at 0x7feecea69170>)),\n",
       "                ('regression-ML',\n",
       "                 LogisticRegression(max_iter=1000, multi_class='ovr',\n",
       "                                    random_state=42))])"
      ]
     },
     "execution_count": 17,
     "metadata": {},
     "output_type": "execute_result"
    }
   ],
   "source": [
    "# Logistic Regression Classifier\n",
    "modelLR = LogisticRegression(random_state = 42, multi_class = 'ovr', class_weight=None, max_iter=1000)\n",
    "\n",
    "model2 = Pipeline([('preprocessing', tfidf_vector),\n",
    "                 ('regression-ML', modelLR)])\n",
    "\n",
    "# model generation\n",
    "model2.fit(X_train,y_train)"
   ]
  },
  {
   "cell_type": "code",
   "execution_count": 18,
   "id": "4c8a31c3",
   "metadata": {},
   "outputs": [
    {
     "data": {
      "text/plain": [
       "Pipeline(steps=[('preprocessing',\n",
       "                 CountVectorizer(tokenizer=<function spacy_tokenizer at 0x7feecea69170>)),\n",
       "                ('regression-ML', RandomForestClassifier(random_state=0))])"
      ]
     },
     "execution_count": 18,
     "metadata": {},
     "output_type": "execute_result"
    }
   ],
   "source": [
    "from sklearn.ensemble import RandomForestClassifier\n",
    "modelRF = RandomForestClassifier(random_state=0)\n",
    "\n",
    "model3 = Pipeline([('preprocessing', bow_vector),\n",
    "                 ('regression-ML', modelRF)])\n",
    "\n",
    "# model generation\n",
    "model3.fit(X_train,y_train)"
   ]
  },
  {
   "cell_type": "code",
   "execution_count": 19,
   "id": "402c01fd",
   "metadata": {},
   "outputs": [
    {
     "data": {
      "text/plain": [
       "Pipeline(steps=[('preprocessing',\n",
       "                 TfidfVectorizer(tokenizer=<function spacy_tokenizer at 0x7feecea69170>)),\n",
       "                ('regression-ML', RandomForestClassifier(random_state=0))])"
      ]
     },
     "execution_count": 19,
     "metadata": {},
     "output_type": "execute_result"
    }
   ],
   "source": [
    "modelRF = RandomForestClassifier(random_state=0)\n",
    "model4 = Pipeline([('preprocessing', tfidf_vector),\n",
    "                 ('regression-ML', modelRF)])\n",
    "\n",
    "# model generation\n",
    "model4.fit(X_train,y_train)"
   ]
  },
  {
   "cell_type": "markdown",
   "id": "bebc93c3",
   "metadata": {},
   "source": [
    "# Evaluación modelo "
   ]
  },
  {
   "cell_type": "markdown",
   "id": "123a21d9",
   "metadata": {},
   "source": [
    "### Regresion logistica BOW"
   ]
  },
  {
   "cell_type": "code",
   "execution_count": 20,
   "id": "dc66b96e",
   "metadata": {},
   "outputs": [
    {
     "name": "stdout",
     "output_type": "stream",
     "text": [
      "Accuracy:  0.8051948051948052\n",
      "              precision    recall  f1-score   support\n",
      "\n",
      "           0       0.91      0.92      0.91        97\n",
      "           1       0.66      0.63      0.65       101\n",
      "           2       0.68      0.72      0.70        82\n",
      "           3       0.78      0.69      0.73        87\n",
      "           4       0.93      0.95      0.94       107\n",
      "           5       0.89      0.83      0.86       103\n",
      "           6       0.77      0.82      0.79        89\n",
      "           7       0.79      0.85      0.82        74\n",
      "           8       0.77      0.71      0.74        87\n",
      "           9       0.84      0.90      0.87        97\n",
      "\n",
      "    accuracy                           0.81       924\n",
      "   macro avg       0.80      0.80      0.80       924\n",
      "weighted avg       0.81      0.81      0.80       924\n",
      "\n"
     ]
    },
    {
     "data": {
      "text/plain": [
       "<AxesSubplot:xlabel='topic_num', ylabel='row_0'>"
      ]
     },
     "execution_count": 20,
     "metadata": {},
     "output_type": "execute_result"
    },
    {
     "data": {
      "image/png": "[encoded data removed]",
      "text/plain": [
       "<Figure size 1080x360 with 2 Axes>"
      ]
     },
     "metadata": {
      "needs_background": "light"
     },
     "output_type": "display_data"
    }
   ],
   "source": [
    "# Predicting with a test dataset\n",
    "from sklearn.metrics import accuracy_score, classification_report\n",
    "import matplotlib.pyplot as plt\n",
    "\n",
    "predicted = model1.predict(X_test)\n",
    "print('Accuracy: ', accuracy_score(y_test, predicted))\n",
    "print(classification_report(y_test, predicted))\n",
    "confusion_matrix = pd.crosstab(predicted, y_test)\n",
    "\n",
    "fig = plt.figure(figsize=(15,5))\n",
    "ax1 = plt.subplot(121)\n",
    "sns.heatmap(confusion_matrix, annot=True, cmap='Blues', fmt='g')"
   ]
  },
  {
   "cell_type": "markdown",
   "id": "18fdcee6",
   "metadata": {},
   "source": [
    "### Regresión logistica TF-IDF"
   ]
  },
  {
   "cell_type": "code",
   "execution_count": 21,
   "id": "fe66fe30",
   "metadata": {},
   "outputs": [
    {
     "name": "stdout",
     "output_type": "stream",
     "text": [
      "Accuracy:  0.7997835497835498\n",
      "              precision    recall  f1-score   support\n",
      "\n",
      "           0       0.91      0.92      0.91        97\n",
      "           1       0.71      0.64      0.68       101\n",
      "           2       0.70      0.70      0.70        82\n",
      "           3       0.71      0.70      0.71        87\n",
      "           4       0.95      0.96      0.96       107\n",
      "           5       0.90      0.76      0.82       103\n",
      "           6       0.79      0.75      0.77        89\n",
      "           7       0.71      0.92      0.80        74\n",
      "           8       0.77      0.68      0.72        87\n",
      "           9       0.81      0.95      0.87        97\n",
      "\n",
      "    accuracy                           0.80       924\n",
      "   macro avg       0.79      0.80      0.79       924\n",
      "weighted avg       0.80      0.80      0.80       924\n",
      "\n"
     ]
    },
    {
     "data": {
      "text/plain": [
       "<AxesSubplot:xlabel='topic_num', ylabel='row_0'>"
      ]
     },
     "execution_count": 21,
     "metadata": {},
     "output_type": "execute_result"
    },
    {
     "data": {
      "image/png": "[encoded data removed]",
      "text/plain": [
       "<Figure size 1080x360 with 2 Axes>"
      ]
     },
     "metadata": {
      "needs_background": "light"
     },
     "output_type": "display_data"
    }
   ],
   "source": [
    "# Predicting with a test dataset\n",
    "from sklearn.metrics import accuracy_score, classification_report\n",
    "\n",
    "predicted = model2.predict(X_test)\n",
    "print('Accuracy: ', accuracy_score(y_test, predicted))\n",
    "print(classification_report(y_test, predicted))\n",
    "confusion_matrix = pd.crosstab(predicted, y_test)\n",
    "\n",
    "\n",
    "fig = plt.figure(figsize=(15,5))\n",
    "ax1 = plt.subplot(121)\n",
    "sns.heatmap(confusion_matrix, annot=True, cmap='Blues', fmt='g')"
   ]
  },
  {
   "cell_type": "markdown",
   "id": "cef416da",
   "metadata": {},
   "source": [
    "### Random Forest BOW"
   ]
  },
  {
   "cell_type": "code",
   "execution_count": 22,
   "id": "e52dad3a",
   "metadata": {},
   "outputs": [
    {
     "name": "stdout",
     "output_type": "stream",
     "text": [
      "Accuracy:  0.7467532467532467\n",
      "              precision    recall  f1-score   support\n",
      "\n",
      "           0       0.77      0.95      0.85        97\n",
      "           1       0.62      0.43      0.51       101\n",
      "           2       0.68      0.66      0.67        82\n",
      "           3       0.70      0.64      0.67        87\n",
      "           4       0.79      0.97      0.87       107\n",
      "           5       0.89      0.81      0.85       103\n",
      "           6       0.71      0.66      0.69        89\n",
      "           7       0.69      0.80      0.74        74\n",
      "           8       0.77      0.55      0.64        87\n",
      "           9       0.75      0.95      0.84        97\n",
      "\n",
      "    accuracy                           0.75       924\n",
      "   macro avg       0.74      0.74      0.73       924\n",
      "weighted avg       0.74      0.75      0.74       924\n",
      "\n"
     ]
    },
    {
     "data": {
      "text/plain": [
       "<AxesSubplot:xlabel='topic_num', ylabel='row_0'>"
      ]
     },
     "execution_count": 22,
     "metadata": {},
     "output_type": "execute_result"
    },
    {
     "data": {
      "image/png": "[encoded data removed]",
      "text/plain": [
       "<Figure size 1080x360 with 2 Axes>"
      ]
     },
     "metadata": {
      "needs_background": "light"
     },
     "output_type": "display_data"
    }
   ],
   "source": [
    "# Predicting with a test dataset\n",
    "from sklearn.metrics import accuracy_score, classification_report\n",
    "\n",
    "predicted = model3.predict(X_test)\n",
    "print('Accuracy: ', accuracy_score(y_test, predicted))\n",
    "print(classification_report(y_test, predicted))\n",
    "confusion_matrix = pd.crosstab(predicted, y_test)\n",
    "\n",
    "fig = plt.figure(figsize=(15,5))\n",
    "ax1 = plt.subplot(121)\n",
    "sns.heatmap(confusion_matrix, annot=True, cmap='Blues', fmt='g')"
   ]
  },
  {
   "cell_type": "markdown",
   "id": "cd4c2c56",
   "metadata": {},
   "source": [
    "### Random Forest TF-IDF"
   ]
  },
  {
   "cell_type": "code",
   "execution_count": 23,
   "id": "83952d10",
   "metadata": {},
   "outputs": [
    {
     "name": "stdout",
     "output_type": "stream",
     "text": [
      "Accuracy:  0.7510822510822511\n",
      "              precision    recall  f1-score   support\n",
      "\n",
      "           0       0.76      0.94      0.84        97\n",
      "           1       0.66      0.48      0.55       101\n",
      "           2       0.70      0.59      0.64        82\n",
      "           3       0.66      0.70      0.68        87\n",
      "           4       0.87      0.97      0.92       107\n",
      "           5       0.87      0.75      0.80       103\n",
      "           6       0.73      0.74      0.73        89\n",
      "           7       0.68      0.84      0.75        74\n",
      "           8       0.81      0.54      0.65        87\n",
      "           9       0.74      0.93      0.83        97\n",
      "\n",
      "    accuracy                           0.75       924\n",
      "   macro avg       0.75      0.75      0.74       924\n",
      "weighted avg       0.75      0.75      0.74       924\n",
      "\n"
     ]
    },
    {
     "data": {
      "text/plain": [
       "<AxesSubplot:xlabel='topic_num', ylabel='row_0'>"
      ]
     },
     "execution_count": 23,
     "metadata": {},
     "output_type": "execute_result"
    },
    {
     "data": {
      "image/png": "[encoded data removed]",
      "text/plain": [
       "<Figure size 1080x360 with 2 Axes>"
      ]
     },
     "metadata": {
      "needs_background": "light"
     },
     "output_type": "display_data"
    }
   ],
   "source": [
    "# Predicting with a test dataset\n",
    "from sklearn.metrics import accuracy_score, classification_report\n",
    "\n",
    "predicted = model4.predict(X_test)\n",
    "print('Accuracy: ', accuracy_score(y_test, predicted))\n",
    "print(classification_report(y_test, predicted))\n",
    "confusion_matrix = pd.crosstab(predicted, y_test)\n",
    "\n",
    "fig = plt.figure(figsize=(15,5))\n",
    "ax1 = plt.subplot(121)\n",
    "sns.heatmap(confusion_matrix, annot=True, cmap='Blues', fmt='g')"
   ]
  }
 ],
 "metadata": {
  "kernelspec": {
   "display_name": "Python 3 (ipykernel)",
   "language": "python",
   "name": "python3"
  },
  "language_info": {
   "codemirror_mode": {
    "name": "ipython",
    "version": 3
   },
   "file_extension": ".py",
   "mimetype": "text/x-python",
   "name": "python",
   "nbconvert_exporter": "python",
   "pygments_lexer": "ipython3",
   "version": "3.7.11"
  }
 },
 "nbformat": 4,
 "nbformat_minor": 5
}
