{
 "cells": [
  {
   "cell_type": "markdown",
   "metadata": {},
   "source": [
    "## Red Neuronal\n",
    "### Ignacio Castro\n",
    "### Sergio Pacheco"
   ]
  },
  {
   "cell_type": "markdown",
   "metadata": {},
   "source": [
    "## 1. Preparación del Dataset para extraer la categoría de las noticias"
   ]
  },
  {
   "cell_type": "code",
   "execution_count": 51,
   "metadata": {},
   "outputs": [
    {
     "name": "stdout",
     "output_type": "stream",
     "text": [
      "(21252, 12)\n",
      "['Catástrofes y Accidentes' 'Ciencias y Tecnologia'\n",
      " 'Crimen, delitos y justicia' 'Cultura y Artes' 'Deporte' 'Ecologia'\n",
      " 'Economia' 'Mundo' 'Politica y Conflictos' 'Salud']\n",
      "Politica y Conflictos         157\n",
      "Crimen, delitos y justicia    157\n",
      "Cultura y Artes               157\n",
      "Ciencias y Tecnologia         157\n",
      "Deporte                       157\n",
      "Mundo                         157\n",
      "Catástrofes y Accidentes      157\n",
      "Ecologia                      157\n",
      "Salud                         157\n",
      "Economia                      157\n",
      "Name: target_topic, dtype: int64\n",
      "-------\n",
      "9    157\n",
      "8    157\n",
      "7    157\n",
      "6    157\n",
      "5    157\n",
      "4    157\n",
      "3    157\n",
      "2    157\n",
      "1    157\n",
      "0    157\n",
      "Name: topic_num, dtype: int64\n",
      "(1570, 3)\n",
      "(1100, 3)\n",
      "(230, 3)\n",
      "(240, 3)\n",
      "9    110\n",
      "8    110\n",
      "7    110\n",
      "6    110\n",
      "5    110\n",
      "4    110\n",
      "3    110\n",
      "2    110\n",
      "1    110\n",
      "0    110\n",
      "Name: topic_num, dtype: int64\n"
     ]
    }
   ],
   "source": [
    "#Todo este bloque esta dedicado a cargar el dataset en formato facil de trabajar con CNN.\n",
    "\n",
    "import pandas as pd\n",
    "from pandasql import sqldf\n",
    "df = pd.read_csv('datatotal.csv')\n",
    "print(df.shape)\n",
    "df.head(4)\n",
    "# Columnas importantes\n",
    "ndata = df[['text', 'target_topic']]\n",
    "data_final = ndata.groupby('target_topic').sample(n=157, random_state=2)\n",
    "data_final.target_topic.value_counts()\n",
    "ndata = data_final\n",
    "\n",
    "# Target topics\n",
    "q=\"\"\"SELECT target_topic FROM df GROUP BY target_topic\"\"\"\n",
    "topics=sqldf(q)\n",
    "topics = topics['target_topic'].to_numpy()\n",
    "print(topics)\n",
    "\n",
    "import re\n",
    "import nltk\n",
    "from nltk.corpus import stopwords\n",
    "from nltk.tokenize import word_tokenize\n",
    "\n",
    "def process_text(text):\n",
    "    text = text.lower().replace('\\n',' ').replace('\\r','').strip()\n",
    "    text = re.sub(' +', ' ', text)\n",
    "    text = re.sub(r'[^\\w\\s]','',text)\n",
    "    \n",
    "    \n",
    "    stop_words = set(stopwords.words('spanish')) \n",
    "    word_tokens = word_tokenize(text) \n",
    "    filtered_sentence = [] \n",
    "    for w in word_tokens: \n",
    "        if w not in stop_words: \n",
    "            filtered_sentence.append(w) \n",
    "    \n",
    "    text = \" \".join(filtered_sentence)\n",
    "    return text\n",
    "\n",
    "ndata['text_parsed'] = ndata['text'].apply(process_text)\n",
    "\n",
    "from sklearn import preprocessing \n",
    "label_encoder = preprocessing.LabelEncoder() \n",
    "print(ndata.target_topic.value_counts())\n",
    "CNNdata = ndata[['text_parsed', 'target_topic']]\n",
    "CNNdata['topic_num']= label_encoder.fit_transform(ndata['target_topic'])\n",
    "#CNNdata = CNNdata[['text_parsed', 'topic_num']]\n",
    "print(\"-------\")\n",
    "print(CNNdata.topic_num.value_counts())\n",
    "\n",
    "from pandasql import sqldf\n",
    "import numpy as np\n",
    "from sklearn.model_selection import train_test_split\n",
    "\n",
    "tdf=CNNdata.loc[CNNdata['topic_num'] == 0]\n",
    "valid, test, train = np.split(tdf, [int(.15*len(tdf)), int(.3*len(tdf))])\n",
    "for i in range(1,10):\n",
    "    tdf=CNNdata.loc[CNNdata['topic_num'] == i]\n",
    "    tvalid, ttest, ttrain = np.split(tdf, [int(.15*len(tdf)), int(.3*len(tdf))])\n",
    "    valid=pd.concat([valid, tvalid])\n",
    "    test=pd.concat([test, ttest])\n",
    "    train=pd.concat([train, ttrain])\n",
    "\n",
    "print(CNNdata.shape)\n",
    "print(train.shape)\n",
    "print(valid.shape)\n",
    "print(test.shape)\n",
    "print(train.topic_num.value_counts())"
   ]
  },
  {
   "cell_type": "code",
   "execution_count": 52,
   "metadata": {},
   "outputs": [
    {
     "data": {
      "text/html": [
       "<div>\n",
       "<style scoped>\n",
       "    .dataframe tbody tr th:only-of-type {\n",
       "        vertical-align: middle;\n",
       "    }\n",
       "\n",
       "    .dataframe tbody tr th {\n",
       "        vertical-align: top;\n",
       "    }\n",
       "\n",
       "    .dataframe thead th {\n",
       "        text-align: right;\n",
       "    }\n",
       "</style>\n",
       "<table border=\"1\" class=\"dataframe\">\n",
       "  <thead>\n",
       "    <tr style=\"text-align: right;\">\n",
       "      <th></th>\n",
       "      <th>text_parsed</th>\n",
       "      <th>target_topic</th>\n",
       "      <th>topic_num</th>\n",
       "    </tr>\n",
       "  </thead>\n",
       "  <tbody>\n",
       "    <tr>\n",
       "      <th>14886</th>\n",
       "      <td>investigación congreso unidos responsabilizó b...</td>\n",
       "      <td>Catástrofes y Accidentes</td>\n",
       "      <td>0</td>\n",
       "    </tr>\n",
       "    <tr>\n",
       "      <th>19882</th>\n",
       "      <td>así chile pasará navidad año nuevo verano 2021...</td>\n",
       "      <td>Catástrofes y Accidentes</td>\n",
       "      <td>0</td>\n",
       "    </tr>\n",
       "    <tr>\n",
       "      <th>668</th>\n",
       "      <td>historial navegación persona puede decirnos mu...</td>\n",
       "      <td>Catástrofes y Accidentes</td>\n",
       "      <td>0</td>\n",
       "    </tr>\n",
       "    <tr>\n",
       "      <th>7946</th>\n",
       "      <td>dos mil accidentes involucrado año ciclistas s...</td>\n",
       "      <td>Catástrofes y Accidentes</td>\n",
       "      <td>0</td>\n",
       "    </tr>\n",
       "    <tr>\n",
       "      <th>14455</th>\n",
       "      <td>josé huirimilla identificada persona murió tra...</td>\n",
       "      <td>Catástrofes y Accidentes</td>\n",
       "      <td>0</td>\n",
       "    </tr>\n",
       "    <tr>\n",
       "      <th>...</th>\n",
       "      <td>...</td>\n",
       "      <td>...</td>\n",
       "      <td>...</td>\n",
       "    </tr>\n",
       "    <tr>\n",
       "      <th>17163</th>\n",
       "      <td>mayor disminución precios arriendo departament...</td>\n",
       "      <td>Economia</td>\n",
       "      <td>6</td>\n",
       "    </tr>\n",
       "    <tr>\n",
       "      <th>17021</th>\n",
       "      <td>tras siete meses emergencia sanitaria cara ver...</td>\n",
       "      <td>Economia</td>\n",
       "      <td>6</td>\n",
       "    </tr>\n",
       "    <tr>\n",
       "      <th>19894</th>\n",
       "      <td>miembros organización países exportadores petr...</td>\n",
       "      <td>Economia</td>\n",
       "      <td>6</td>\n",
       "    </tr>\n",
       "    <tr>\n",
       "      <th>15582</th>\n",
       "      <td>santiago diario oficial publicó hoy decreto mi...</td>\n",
       "      <td>Economia</td>\n",
       "      <td>6</td>\n",
       "    </tr>\n",
       "    <tr>\n",
       "      <th>14388</th>\n",
       "      <td>tiffany interpuso demanda louis vuitton lvmh u...</td>\n",
       "      <td>Economia</td>\n",
       "      <td>6</td>\n",
       "    </tr>\n",
       "  </tbody>\n",
       "</table>\n",
       "<p>1000 rows × 3 columns</p>\n",
       "</div>"
      ],
      "text/plain": [
       "                                             text_parsed  \\\n",
       "14886  investigación congreso unidos responsabilizó b...   \n",
       "19882  así chile pasará navidad año nuevo verano 2021...   \n",
       "668    historial navegación persona puede decirnos mu...   \n",
       "7946   dos mil accidentes involucrado año ciclistas s...   \n",
       "14455  josé huirimilla identificada persona murió tra...   \n",
       "...                                                  ...   \n",
       "17163  mayor disminución precios arriendo departament...   \n",
       "17021  tras siete meses emergencia sanitaria cara ver...   \n",
       "19894  miembros organización países exportadores petr...   \n",
       "15582  santiago diario oficial publicó hoy decreto mi...   \n",
       "14388  tiffany interpuso demanda louis vuitton lvmh u...   \n",
       "\n",
       "                   target_topic  topic_num  \n",
       "14886  Catástrofes y Accidentes          0  \n",
       "19882  Catástrofes y Accidentes          0  \n",
       "668    Catástrofes y Accidentes          0  \n",
       "7946   Catástrofes y Accidentes          0  \n",
       "14455  Catástrofes y Accidentes          0  \n",
       "...                         ...        ...  \n",
       "17163                  Economia          6  \n",
       "17021                  Economia          6  \n",
       "19894                  Economia          6  \n",
       "15582                  Economia          6  \n",
       "14388                  Economia          6  \n",
       "\n",
       "[1000 rows x 3 columns]"
      ]
     },
     "execution_count": 52,
     "metadata": {},
     "output_type": "execute_result"
    }
   ],
   "source": [
    "CNNdata.head(1000)"
   ]
  },
  {
   "cell_type": "code",
   "execution_count": 53,
   "metadata": {},
   "outputs": [],
   "source": [
    "#Dividir Dataset equilibradamente\n",
    "valid = valid.rename(columns={'text_parsed': 'body', 'target_topic': 'category'})\n",
    "train = train.rename(columns={'text_parsed': 'body', 'target_topic': 'category'})\n",
    "test = test.rename(columns={'text_parsed': 'body', 'target_topic': 'category'})\n",
    "valid = valid[['body', 'category']]\n",
    "test = test[['body', 'category']]\n",
    "train = train[['body', 'category']]"
   ]
  },
  {
   "cell_type": "code",
   "execution_count": 54,
   "metadata": {},
   "outputs": [],
   "source": [
    "#Guardar datos en archivos\n",
    "train.to_csv(\"CNN_train.csv\", encoding=\"UTF-8\",index=False)\n",
    "valid.to_csv(\"CNN_valid.csv\", encoding=\"UTF-8\",index=False)\n",
    "test.to_csv(\"CNN_test.csv\", encoding=\"UTF-8\",index=False)"
   ]
  },
  {
   "cell_type": "markdown",
   "metadata": {},
   "source": [
    "## 2. Clasificar textos según su categoria temática con una red convolucional"
   ]
  },
  {
   "cell_type": "markdown",
   "metadata": {},
   "source": [
    "### 2.1 Leer el dataset"
   ]
  },
  {
   "cell_type": "code",
   "execution_count": 55,
   "metadata": {},
   "outputs": [],
   "source": [
    "import torch\n",
    "import spacy\n",
    "import random\n",
    "import torchtext\n",
    "from torchtext import data\n",
    "from torchtext import datasets\n",
    "from torchtext.legacy import data"
   ]
  },
  {
   "cell_type": "code",
   "execution_count": 56,
   "metadata": {},
   "outputs": [
    {
     "name": "stdout",
     "output_type": "stream",
     "text": [
      "1.10.0\n"
     ]
    }
   ],
   "source": [
    "#REvisamos version de torch.\n",
    "import torch\n",
    "print(torch.__version__) #1.7.0"
   ]
  },
  {
   "cell_type": "code",
   "execution_count": 57,
   "metadata": {},
   "outputs": [],
   "source": [
    "#Cargamos tokenizados para español.\n",
    "spacy_es = spacy.load('es_core_news_sm')"
   ]
  },
  {
   "cell_type": "code",
   "execution_count": 58,
   "metadata": {},
   "outputs": [],
   "source": [
    "def tokenize_es(sentence):\n",
    "    return [tok.text for tok in spacy_es.tokenizer(sentence)]"
   ]
  },
  {
   "cell_type": "code",
   "execution_count": 59,
   "metadata": {},
   "outputs": [
    {
     "name": "stdout",
     "output_type": "stream",
     "text": [
      "1.10.0 3.2.0 0.11.0\n"
     ]
    }
   ],
   "source": [
    "#Revusamos todas las versiones.\n",
    "print(torch.__version__,spacy.__version__,torchtext.__version__)"
   ]
  },
  {
   "cell_type": "code",
   "execution_count": 60,
   "metadata": {},
   "outputs": [],
   "source": [
    "TEXT = data.Field(tokenize=tokenize_es, batch_first = True)\n",
    "CATEGORY = data.LabelField()"
   ]
  },
  {
   "cell_type": "code",
   "execution_count": 61,
   "metadata": {},
   "outputs": [],
   "source": [
    "#Definimos campos\n",
    "fields = [('body', TEXT),('category', CATEGORY)]"
   ]
  },
  {
   "cell_type": "code",
   "execution_count": 62,
   "metadata": {},
   "outputs": [],
   "source": [
    "#Se leen los CSV para tokenizarlos con Torch\n",
    "import numpy as np\n",
    "\n",
    "SEED = 1234\n",
    "\n",
    "random.seed(SEED)\n",
    "np.random.seed(SEED)\n",
    "torch.manual_seed(SEED)\n",
    "torch.backends.cudnn.deterministic = True\n",
    "\n",
    "train_data, valid_data, test_data = data.TabularDataset.splits(\n",
    "                                        path = '.',\n",
    "                                        train = 'CNN_train.csv',\n",
    "                                        validation= 'CNN_valid.csv',\n",
    "                                        test = 'CNN_test.csv',\n",
    "                                        format = 'csv',\n",
    "                                        fields = fields,\n",
    "                                        skip_header = True\n",
    ")"
   ]
  },
  {
   "cell_type": "code",
   "execution_count": 63,
   "metadata": {},
   "outputs": [
    {
     "name": "stdout",
     "output_type": "stream",
     "text": [
      "cuda\n"
     ]
    }
   ],
   "source": [
    "BATCH_SIZE = 32\n",
    "\n",
    "device = torch.device('cuda') if torch.cuda.is_available() else 'cpu'\n",
    "print(device)\n",
    "\n",
    "train_iterator, valid_iterator, test_iterator = data.BucketIterator.splits(\n",
    "    (train_data, valid_data, test_data), \n",
    "    batch_size = BATCH_SIZE, \n",
    "    device = device,\n",
    "    sort_key=lambda x:len(x.category),\n",
    "    sort_within_batch=False)"
   ]
  },
  {
   "cell_type": "markdown",
   "metadata": {},
   "source": [
    "### 2.2 Crear la arquitectura CNN"
   ]
  },
  {
   "cell_type": "code",
   "execution_count": 64,
   "metadata": {},
   "outputs": [],
   "source": [
    "#Vector se puede descargar con\n",
    "#!wget http://dcc.uchile.cl/~jperez/word-embeddings/glove-sbwc.i25.vec.gz"
   ]
  },
  {
   "cell_type": "code",
   "execution_count": 65,
   "metadata": {},
   "outputs": [],
   "source": [
    "MAX_VOCAB_SIZE = 50000\n",
    "\n",
    "## TENER VECTORES EN ESPAÑOL\n",
    "vec = torchtext.vocab.Vectors('glove-sbwc.i25.vec.gz', cache='.')\n",
    "TEXT.build_vocab(train_data, vectors=vec, max_size = MAX_VOCAB_SIZE, unk_init = torch.Tensor.normal_)\n",
    "\n",
    "CATEGORY.build_vocab(train_data)"
   ]
  },
  {
   "cell_type": "code",
   "execution_count": 66,
   "metadata": {},
   "outputs": [
    {
     "name": "stdout",
     "output_type": "stream",
     "text": [
      "defaultdict(None, {'Catástrofes y Accidentes': 0, 'Ciencias y Tecnologia': 1, 'Crimen, delitos y justicia': 2, 'Cultura y Artes': 3, 'Deporte': 4, 'Ecologia': 5, 'Economia': 6, 'Mundo': 7, 'Politica y Conflictos': 8, 'Salud': 9})\n"
     ]
    }
   ],
   "source": [
    "#Ver numero asociado a cada categoria\n",
    "print(CATEGORY.vocab.stoi)"
   ]
  },
  {
   "cell_type": "code",
   "execution_count": 67,
   "metadata": {},
   "outputs": [],
   "source": [
    "#Difinir estructura CNN\n",
    "import torch.nn as nn\n",
    "import torch.nn.functional as F\n",
    "\n",
    "class CNN(nn.Module):\n",
    "    def __init__(self, vocab_size, embedding_dim, n_filters, filter_sizes, output_dim, \n",
    "                 dropout, pad_idx):\n",
    "        \n",
    "        super().__init__()\n",
    "        \n",
    "        self.embedding = nn.Embedding(vocab_size, embedding_dim)\n",
    "       \n",
    "    \n",
    "        self.convs = nn.ModuleList([\n",
    "                                    nn.Conv1d(in_channels = 1, \n",
    "                                              out_channels = n_filters, \n",
    "                                              kernel_size = (fs, embedding_dim)) \n",
    "                                    for fs in filter_sizes\n",
    "                                    ])\n",
    "        \n",
    "        self.fc = nn.Linear(len(filter_sizes) * n_filters, output_dim)\n",
    "        \n",
    "        self.dropout = nn.Dropout(dropout)\n",
    "        \n",
    "    def forward(self, text):\n",
    "        \n",
    "        embedded = self.embedding(text)\n",
    "                        \n",
    "        embedded = embedded.unsqueeze(1)\n",
    "                \n",
    "        conved = [F.relu(conv(embedded)).squeeze(3) for conv in self.convs]\n",
    "                    \n",
    "        pooled = [F.max_pool1d(conv, conv.shape[2]).squeeze(2) for conv in conved]\n",
    "                \n",
    "        cat = self.dropout(torch.cat(pooled, dim = 1))\n",
    "        \n",
    "        return self.fc(cat)"
   ]
  },
  {
   "cell_type": "code",
   "execution_count": 68,
   "metadata": {},
   "outputs": [],
   "source": [
    "#Parametros modelos\n",
    "INPUT_DIM = len(TEXT.vocab)\n",
    "EMBEDDING_DIM = 300\n",
    "N_FILTERS = 100\n",
    "FILTER_SIZES = [1,2,3,4]\n",
    "OUTPUT_DIM = len(CATEGORY.vocab)\n",
    "DROPOUT = 0.5\n",
    "PAD_IDX = TEXT.vocab.stoi[TEXT.pad_token]\n",
    "\n",
    "model = CNN(INPUT_DIM, EMBEDDING_DIM, N_FILTERS, FILTER_SIZES, OUTPUT_DIM, DROPOUT, PAD_IDX)"
   ]
  },
  {
   "cell_type": "code",
   "execution_count": 69,
   "metadata": {},
   "outputs": [
    {
     "data": {
      "text/plain": [
       "10"
      ]
     },
     "execution_count": 69,
     "metadata": {},
     "output_type": "execute_result"
    }
   ],
   "source": [
    "#Verificar numero topicos/dimension salida\n",
    "OUTPUT_DIM"
   ]
  },
  {
   "cell_type": "code",
   "execution_count": 70,
   "metadata": {},
   "outputs": [
    {
     "name": "stdout",
     "output_type": "stream",
     "text": [
      "The model has 10,145,310 trainable parameters\n"
     ]
    }
   ],
   "source": [
    "def count_parameters(model):\n",
    "    return sum(p.numel() for p in model.parameters() if p.requires_grad)\n",
    "\n",
    "print(f'The model has {count_parameters(model):,} trainable parameters')"
   ]
  },
  {
   "cell_type": "code",
   "execution_count": 71,
   "metadata": {},
   "outputs": [],
   "source": [
    "pretrained_embeddings = TEXT.vocab.vectors\n",
    "UNK_IDX = TEXT.vocab.stoi[TEXT.unk_token]\n",
    "\n",
    "model.embedding.weight.data.copy_(pretrained_embeddings)\n",
    "model.embedding.weight.data[UNK_IDX] = torch.zeros(EMBEDDING_DIM)\n",
    "model.embedding.weight.data[PAD_IDX] = torch.zeros(EMBEDDING_DIM)"
   ]
  },
  {
   "cell_type": "markdown",
   "metadata": {},
   "source": [
    "### 2.3 Funciones para optimizar el modelo"
   ]
  },
  {
   "cell_type": "code",
   "execution_count": 72,
   "metadata": {},
   "outputs": [],
   "source": [
    "import torch.optim as optim\n",
    "\n",
    "optimizer = optim.Adam(model.parameters())\n",
    "\n",
    "criterion = nn.CrossEntropyLoss() \n",
    "\n",
    "model = model.to(device)\n",
    "criterion = criterion.to(device)"
   ]
  },
  {
   "cell_type": "code",
   "execution_count": 73,
   "metadata": {},
   "outputs": [],
   "source": [
    "#Definimos train\n",
    "def train(model, iterator, optimizer, criterion):\n",
    "    \n",
    "    epoch_loss = 0\n",
    "    epoch_acc = 0\n",
    "    \n",
    "    model.train()\n",
    "    \n",
    "    for batch in iterator:\n",
    "        \n",
    "        optimizer.zero_grad()\n",
    "                \n",
    "        predictions = model(batch.body)\n",
    "                \n",
    "        loss = criterion(predictions, batch.category)\n",
    "        \n",
    "        acc = categorical_accuracy(predictions, batch.category)\n",
    "        \n",
    "        loss.backward()\n",
    "        \n",
    "        optimizer.step()\n",
    "        \n",
    "        epoch_loss += loss.item()\n",
    "        epoch_acc += acc.item()\n",
    "        \n",
    "    return epoch_loss / len(iterator), epoch_acc / len(iterator)"
   ]
  },
  {
   "cell_type": "code",
   "execution_count": 74,
   "metadata": {},
   "outputs": [],
   "source": [
    "import time\n",
    "\n",
    "def epoch_time(start_time, end_time):\n",
    "    elapsed_time = end_time - start_time\n",
    "    elapsed_mins = int(elapsed_time / 60)\n",
    "    elapsed_secs = int(elapsed_time - (elapsed_mins * 60))\n",
    "    return elapsed_mins, elapsed_secs"
   ]
  },
  {
   "cell_type": "markdown",
   "metadata": {},
   "source": [
    "### 2.4 Funciones para evaluar el modelo"
   ]
  },
  {
   "cell_type": "code",
   "execution_count": 75,
   "metadata": {},
   "outputs": [],
   "source": [
    "def categorical_accuracy(preds, y):\n",
    "    \"\"\"\n",
    "    Returns accuracy per batch, i.e. if you get 8/10 right, this returns 0.8, NOT 8\n",
    "    \"\"\"\n",
    "    max_preds = preds.argmax(dim = 1, keepdim = True) # get the index of the max probability\n",
    "    correct = max_preds.squeeze(1).eq(y)\n",
    "    return correct.sum() / torch.cuda.FloatTensor([y.shape[0]])"
   ]
  },
  {
   "cell_type": "code",
   "execution_count": 76,
   "metadata": {},
   "outputs": [],
   "source": [
    "def evaluate(model, iterator, criterion):\n",
    "    \n",
    "    epoch_loss = 0\n",
    "    epoch_acc = 0\n",
    "    \n",
    "    model.eval()\n",
    "    \n",
    "    with torch.no_grad():\n",
    "    \n",
    "        for batch in iterator:\n",
    "\n",
    "            predictions = model(batch.body)\n",
    "            \n",
    "            loss = criterion(predictions, batch.category)\n",
    "            \n",
    "            acc = categorical_accuracy(predictions, batch.category)\n",
    "\n",
    "            epoch_loss += loss.item()\n",
    "            epoch_acc += acc.item()\n",
    "        \n",
    "    return epoch_loss / len(iterator), epoch_acc / len(iterator)\n",
    "\n"
   ]
  },
  {
   "cell_type": "markdown",
   "metadata": {},
   "source": [
    "\n",
    "### 2.5 Optimización del modelo"
   ]
  },
  {
   "cell_type": "code",
   "execution_count": 77,
   "metadata": {},
   "outputs": [
    {
     "name": "stdout",
     "output_type": "stream",
     "text": [
      "inicio optimización\n",
      "Epoch: 01 | Epoch Time: 0m 3s\n",
      "\tTrain Loss: 2.002 | Train Acc: 33.78%\n",
      "\t Val. Loss: 1.591 |  Val. Acc: 64.71%\n",
      "Epoch: 02 | Epoch Time: 0m 3s\n",
      "\tTrain Loss: 1.176 | Train Acc: 70.86%\n",
      "\t Val. Loss: 1.100 |  Val. Acc: 67.97%\n",
      "Epoch: 03 | Epoch Time: 0m 3s\n",
      "\tTrain Loss: 0.721 | Train Acc: 82.80%\n",
      "\t Val. Loss: 0.940 |  Val. Acc: 68.75%\n",
      "Epoch: 04 | Epoch Time: 0m 3s\n",
      "\tTrain Loss: 0.493 | Train Acc: 87.32%\n",
      "\t Val. Loss: 0.710 |  Val. Acc: 78.26%\n",
      "Epoch: 05 | Epoch Time: 0m 3s\n",
      "\tTrain Loss: 0.347 | Train Acc: 91.55%\n",
      "\t Val. Loss: 0.678 |  Val. Acc: 78.91%\n"
     ]
    }
   ],
   "source": [
    "print(\"inicio optimización\")\n",
    "\n",
    "N_EPOCHS = 5 #5\n",
    "\n",
    "best_valid_loss = float('inf')\n",
    "\n",
    "for epoch in range(N_EPOCHS):\n",
    "\n",
    "    start_time = time.time()\n",
    "    \n",
    "    train_loss, train_acc = train(model, train_iterator, optimizer, criterion)\n",
    "    valid_loss, valid_acc = evaluate(model, valid_iterator, criterion)\n",
    "    \n",
    "    end_time = time.time()\n",
    "    \n",
    "\n",
    "    epoch_mins, epoch_secs = epoch_time(start_time, end_time)\n",
    "    \n",
    "    if valid_loss < best_valid_loss:\n",
    "        best_valid_loss = valid_loss\n",
    "        name = './tematic-model-CNN'+'_ep'+str(epoch+1)+'.pt'\n",
    "        torch.save({'epoca': epoch,\n",
    "                    'model_state_dict': model.state_dict(),\n",
    "                    'optimizer_state_dict': optimizer.state_dict(),\n",
    "                    'Valid_loss': best_valid_loss}, name)\n",
    "    \n",
    "    print(f'Epoch: {epoch+1:02} | Epoch Time: {epoch_mins}m {epoch_secs}s')\n",
    "    print(f'\\tTrain Loss: {train_loss:.3f} | Train Acc: {train_acc*100:.2f}%')\n",
    "    print(f'\\t Val. Loss: {valid_loss:.3f} |  Val. Acc: {valid_acc*100:.2f}%')\n",
    "\n"
   ]
  },
  {
   "cell_type": "markdown",
   "metadata": {},
   "source": [
    "### 2.6 Evaluación del modelo"
   ]
  },
  {
   "cell_type": "code",
   "execution_count": 79,
   "metadata": {
    "scrolled": true
   },
   "outputs": [],
   "source": [
    "best_model = CNN(INPUT_DIM, EMBEDDING_DIM, N_FILTERS, FILTER_SIZES, OUTPUT_DIM, DROPOUT, PAD_IDX)"
   ]
  },
  {
   "cell_type": "code",
   "execution_count": 80,
   "metadata": {},
   "outputs": [],
   "source": [
    "pretrained_embeddings = TEXT.vocab.vectors\n",
    "UNK_IDX = TEXT.vocab.stoi[TEXT.unk_token]\n",
    "\n",
    "best_model.embedding.weight.data.copy_(pretrained_embeddings)\n",
    "best_model.embedding.weight.data[UNK_IDX] = torch.zeros(EMBEDDING_DIM)\n",
    "best_model.embedding.weight.data[PAD_IDX] = torch.zeros(EMBEDDING_DIM)"
   ]
  },
  {
   "cell_type": "code",
   "execution_count": 81,
   "metadata": {},
   "outputs": [
    {
     "data": {
      "text/plain": [
       "<All keys matched successfully>"
      ]
     },
     "execution_count": 81,
     "metadata": {},
     "output_type": "execute_result"
    }
   ],
   "source": [
    "#Cargamos mejor modelo\n",
    "name = './tematic-model-CNN'+'_ep'+str(5)+'.pt'\n",
    "best_model.load_state_dict(torch.load(name, map_location=torch.device('cpu'))['model_state_dict'])"
   ]
  },
  {
   "cell_type": "code",
   "execution_count": 82,
   "metadata": {},
   "outputs": [
    {
     "name": "stdout",
     "output_type": "stream",
     "text": [
      "Test Loss: 0.715 | Test Acc: 80.86%\n"
     ]
    }
   ],
   "source": [
    "test_loss, test_acc = evaluate(model, test_iterator, criterion)\n",
    "\n",
    "print(f'Test Loss: {test_loss:.3f} | Test Acc: {test_acc*100:.2f}%')"
   ]
  },
  {
   "cell_type": "code",
   "execution_count": 83,
   "metadata": {},
   "outputs": [],
   "source": [
    "prediction_test = []\n",
    "labels_test=[]\n",
    "for batch in test_iterator:\n",
    "    labels_test.append(batch.category.cpu().detach().numpy())\n",
    "    predictions = best_model(batch.body.cpu()).squeeze(1)\n",
    "    #print(torch.sigmoid(predictions))\n",
    "    rounded_preds = torch.round(torch.sigmoid(predictions))\n",
    "    prediction_test.append(rounded_preds.detach().numpy())\n",
    "    #print(prediction_test)\n",
    "    \n",
    "\n",
    "y_true = np.concatenate(labels_test)\n",
    "y_pred = np.concatenate(prediction_test)"
   ]
  },
  {
   "cell_type": "markdown",
   "metadata": {},
   "source": [
    "## 2.7 Hacer predicciones con el modelo"
   ]
  },
  {
   "cell_type": "code",
   "execution_count": 85,
   "metadata": {},
   "outputs": [],
   "source": [
    "def predict_class(model, sentence, min_len = 4):\n",
    "\n",
    "    tokenized = [tok.text for tok in spacy_es.tokenizer(sentence)]\n",
    "    \n",
    "    if len(tokenized) < min_len:\n",
    "        tokenized += ['<pad>'] * (min_len - len(tokenized))\n",
    "    \n",
    "    indexed = [TEXT.vocab.stoi[t] for t in tokenized]\n",
    "    \n",
    "    print(indexed)\n",
    "    #indexed2 = [[0, 0, 1382, 0, 102, 72, 0, 297, 0],[0, 0, 1382, 0, 102, 72, 0, 297, 0]]\n",
    "    tensor = torch.LongTensor(indexed).to(device)\n",
    "    tensor = tensor.unsqueeze(0)\n",
    "    \n",
    "    preds = model(tensor)\n",
    "    max_preds = preds.argmax(dim = 1)\n",
    "    return max_preds.item()"
   ]
  },
  {
   "cell_type": "code",
   "execution_count": 86,
   "metadata": {
    "scrolled": true
   },
   "outputs": [
    {
     "name": "stdout",
     "output_type": "stream",
     "text": [
      "[0, 0, 1941, 5219, 0, 0]\n",
      "Predicted class is:  4\n"
     ]
    }
   ],
   "source": [
    "from torchtext import data\n",
    "\n",
    "pred_class = predict_class(model, \"Futbol, pelota golazo de sanchez\")\n",
    "print('Predicted class is: ', pred_class)\n",
    "#print(f'Predicted class is: {pred_class} = {LABEL.vocab.itos[pred_class]}')"
   ]
  },
  {
   "cell_type": "code",
   "execution_count": 87,
   "metadata": {},
   "outputs": [],
   "source": [
    "# Predicting with a test dataset\n",
    "\n",
    "preds = torch.zeros(test.shape[0])\n",
    "category = torch.zeros(test.shape[0])\n",
    "n=0\n",
    "for batch in test_iterator:\n",
    "    predictions = model(batch.body)\n",
    "    max_preds = predictions.argmax(axis=1)\n",
    "    #print(batch.category.shape)\n",
    "    #print(max_preds.shape[0])\n",
    "    if(max_preds.shape[0] == 16):\n",
    "        n= n + 16\n",
    "        preds[n-16:n] = max_preds\n",
    "        category[n-16:n] = batch.category\n",
    "    else:\n",
    "        n = n + 32\n",
    "        preds[n-32:n] = max_preds\n",
    "        category[n-32:n] = batch.category\n",
    "    #print(predictions.shape)\n"
   ]
  },
  {
   "cell_type": "code",
   "execution_count": 88,
   "metadata": {},
   "outputs": [
    {
     "name": "stdout",
     "output_type": "stream",
     "text": [
      "Accuracy:  0.825\n",
      "              precision    recall  f1-score   support\n",
      "\n",
      "         0.0       0.88      0.96      0.92        24\n",
      "         1.0       0.92      0.50      0.65        24\n",
      "         2.0       0.78      0.58      0.67        24\n",
      "         3.0       0.86      1.00      0.92        24\n",
      "         4.0       0.81      0.92      0.86        24\n",
      "         5.0       0.81      0.92      0.86        24\n",
      "         6.0       0.81      0.88      0.84        24\n",
      "         7.0       0.77      0.71      0.74        24\n",
      "         8.0       0.96      1.00      0.98        24\n",
      "         9.0       0.68      0.79      0.73        24\n",
      "\n",
      "    accuracy                           0.82       240\n",
      "   macro avg       0.83      0.82      0.82       240\n",
      "weighted avg       0.83      0.82      0.82       240\n",
      "\n"
     ]
    },
    {
     "data": {
      "image/png": "[encoded data removed]",
      "text/plain": [
       "<Figure size 1080x360 with 2 Axes>"
      ]
     },
     "metadata": {
      "needs_background": "light"
     },
     "output_type": "display_data"
    }
   ],
   "source": [
    "# Predicting with a test dataset\n",
    "from sklearn.metrics import accuracy_score, classification_report\n",
    "import matplotlib.pyplot as plt\n",
    "import seaborn as sns\n",
    "\n",
    "#predicted = model1.predict(X_test)\n",
    "print('Accuracy: ', accuracy_score(preds, category))\n",
    "print(classification_report(category, preds))\n",
    "\n",
    "confusion_matrix = pd.crosstab(preds, category)\n",
    "\n",
    "fig = plt.figure(figsize=(15,5))\n",
    "ax = plt.subplot(121)\n",
    "\n",
    "sns.heatmap(confusion_matrix, annot=True, cmap='Blues', fmt='g')\n",
    "\n",
    "# labels, title and ticks\n",
    "ax.set_xlabel('Predicted labels');\n",
    "ax.set_ylabel('True labels'); \n",
    "\n",
    "ax.set_title('Confusion Matrix'); \n",
    "\n",
    "#ax.xaxis.set_ticklabels(topics); \n",
    "ax.yaxis.set_ticklabels(topics);\n",
    "\n",
    "plt.xticks(rotation=45)\n",
    "plt.yticks(rotation=45)\n",
    "None"
   ]
  },
  {
   "cell_type": "markdown",
   "metadata": {},
   "source": [
    "En general da buenos resultados, es el mejor de los modelos entrenados hasta ahora. Esto era de esperar por la potencia que suelen tener generalmente las redes neuronales. Sigue teniendo probelmas para para clasficar noticias ciencias y crimen. En crimen podría ser porque es uno de los temas en los que se tubo que recurrir a keywords, y en ciencias podrias ser porque tiene terminos comunes ocn otras noticias (pueden haber terminos cientificos en noticias de salud o tecnologia por ejemplo) lo que lleva a un alto recall. Finalmente es el mejor de los modelos obtenidos y con un dataset más grande podría quiza mejorar aun más-"
   ]
  }
 ],
 "metadata": {
  "kernelspec": {
   "display_name": "Python 3 (ipykernel)",
   "language": "python",
   "name": "python3"
  },
  "language_info": {
   "codemirror_mode": {
    "name": "ipython",
    "version": 3
   },
   "file_extension": ".py",
   "mimetype": "text/x-python",
   "name": "python",
   "nbconvert_exporter": "python",
   "pygments_lexer": "ipython3",
   "version": "3.7.11"
  }
 },
 "nbformat": 4,
 "nbformat_minor": 4
}
