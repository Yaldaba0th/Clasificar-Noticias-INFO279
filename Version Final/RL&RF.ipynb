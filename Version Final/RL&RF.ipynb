{
 "cells": [
  {
   "cell_type": "markdown",
   "id": "c50cdf22",
   "metadata": {},
   "source": [
    "## Regresión Logistica y Random Forest\n",
    "### Ignacio Castro\n",
    "### Sergio Pacheco"
   ]
  },
  {
   "cell_type": "markdown",
   "id": "ba22bc9a",
   "metadata": {},
   "source": [
    "## Dataset"
   ]
  },
  {
   "cell_type": "code",
   "execution_count": 1,
   "id": "4ad4fb8d",
   "metadata": {},
   "outputs": [
    {
     "name": "stdout",
     "output_type": "stream",
     "text": [
      "(1590, 12)\n"
     ]
    },
    {
     "data": {
      "text/html": [
       "<div>\n",
       "<style scoped>\n",
       "    .dataframe tbody tr th:only-of-type {\n",
       "        vertical-align: middle;\n",
       "    }\n",
       "\n",
       "    .dataframe tbody tr th {\n",
       "        vertical-align: top;\n",
       "    }\n",
       "\n",
       "    .dataframe thead th {\n",
       "        text-align: right;\n",
       "    }\n",
       "</style>\n",
       "<table border=\"1\" class=\"dataframe\">\n",
       "  <thead>\n",
       "    <tr style=\"text-align: right;\">\n",
       "      <th></th>\n",
       "      <th>Unnamed: 0</th>\n",
       "      <th>id</th>\n",
       "      <th>country</th>\n",
       "      <th>media_outlet</th>\n",
       "      <th>url</th>\n",
       "      <th>title</th>\n",
       "      <th>text</th>\n",
       "      <th>date</th>\n",
       "      <th>year</th>\n",
       "      <th>id_journalist</th>\n",
       "      <th>temas</th>\n",
       "      <th>target_topic</th>\n",
       "    </tr>\n",
       "  </thead>\n",
       "  <tbody>\n",
       "    <tr>\n",
       "      <th>0</th>\n",
       "      <td>14886</td>\n",
       "      <td>625601</td>\n",
       "      <td>chile</td>\n",
       "      <td>biobiochile</td>\n",
       "      <td>https://www.biobiochile.cl/noticias/internacio...</td>\n",
       "      <td>Informe del Congreso de EEUU apunta a Boeing y...</td>\n",
       "      <td>Una investigación del Congreso de Estados Unid...</td>\n",
       "      <td>2020-09-16</td>\n",
       "      <td>2020.0</td>\n",
       "      <td>NaN</td>\n",
       "      <td>internacional</td>\n",
       "      <td>Catástrofes y Accidentes</td>\n",
       "    </tr>\n",
       "    <tr>\n",
       "      <th>1</th>\n",
       "      <td>19882</td>\n",
       "      <td>38140</td>\n",
       "      <td>chile</td>\n",
       "      <td>biobiochile</td>\n",
       "      <td>https://www.biobiochile.cl/noticias/nacional/c...</td>\n",
       "      <td>Fin de año y todo el verano bajo E. de Catástr...</td>\n",
       "      <td>Así, Chile pasará Navidad, Año Nuevo y todo el...</td>\n",
       "      <td>2020-12-03</td>\n",
       "      <td>2020.0</td>\n",
       "      <td>NaN</td>\n",
       "      <td>nacional</td>\n",
       "      <td>Catástrofes y Accidentes</td>\n",
       "    </tr>\n",
       "    <tr>\n",
       "      <th>2</th>\n",
       "      <td>668</td>\n",
       "      <td>7047570</td>\n",
       "      <td>chile</td>\n",
       "      <td>latercera</td>\n",
       "      <td>https://www.latercera.com/mouse/fue-un-acciden...</td>\n",
       "      <td>Fue un accidente: Shūeisha justificó que un ed...</td>\n",
       "      <td>El historial de navegación de una persona pued...</td>\n",
       "      <td>2021-01-14</td>\n",
       "      <td>2021.0</td>\n",
       "      <td>NaN</td>\n",
       "      <td>mouse</td>\n",
       "      <td>Catástrofes y Accidentes</td>\n",
       "    </tr>\n",
       "    <tr>\n",
       "      <th>3</th>\n",
       "      <td>7946</td>\n",
       "      <td>4712271</td>\n",
       "      <td>chile</td>\n",
       "      <td>latercera</td>\n",
       "      <td>https://www.latercera.com/nacional/noticia/acc...</td>\n",
       "      <td>Accidentes de tránsito: uno de cada cinco fall...</td>\n",
       "      <td>Más de dos mil accidentes han involucrado este...</td>\n",
       "      <td>2020-11-13</td>\n",
       "      <td>2020.0</td>\n",
       "      <td>NaN</td>\n",
       "      <td>nacional</td>\n",
       "      <td>Catástrofes y Accidentes</td>\n",
       "    </tr>\n",
       "  </tbody>\n",
       "</table>\n",
       "</div>"
      ],
      "text/plain": [
       "   Unnamed: 0       id country media_outlet  \\\n",
       "0       14886   625601   chile  biobiochile   \n",
       "1       19882    38140   chile  biobiochile   \n",
       "2         668  7047570   chile    latercera   \n",
       "3        7946  4712271   chile    latercera   \n",
       "\n",
       "                                                 url  \\\n",
       "0  https://www.biobiochile.cl/noticias/internacio...   \n",
       "1  https://www.biobiochile.cl/noticias/nacional/c...   \n",
       "2  https://www.latercera.com/mouse/fue-un-acciden...   \n",
       "3  https://www.latercera.com/nacional/noticia/acc...   \n",
       "\n",
       "                                               title  \\\n",
       "0  Informe del Congreso de EEUU apunta a Boeing y...   \n",
       "1  Fin de año y todo el verano bajo E. de Catástr...   \n",
       "2  Fue un accidente: Shūeisha justificó que un ed...   \n",
       "3  Accidentes de tránsito: uno de cada cinco fall...   \n",
       "\n",
       "                                                text        date    year  \\\n",
       "0  Una investigación del Congreso de Estados Unid...  2020-09-16  2020.0   \n",
       "1  Así, Chile pasará Navidad, Año Nuevo y todo el...  2020-12-03  2020.0   \n",
       "2  El historial de navegación de una persona pued...  2021-01-14  2021.0   \n",
       "3  Más de dos mil accidentes han involucrado este...  2020-11-13  2020.0   \n",
       "\n",
       "   id_journalist          temas              target_topic  \n",
       "0            NaN  internacional  Catástrofes y Accidentes  \n",
       "1            NaN       nacional  Catástrofes y Accidentes  \n",
       "2            NaN          mouse  Catástrofes y Accidentes  \n",
       "3            NaN       nacional  Catástrofes y Accidentes  "
      ]
     },
     "execution_count": 1,
     "metadata": {},
     "output_type": "execute_result"
    }
   ],
   "source": [
    "#Cargar dataset\n",
    "import pandas as pd\n",
    "df = pd.read_csv('data.csv')\n",
    "print(df.shape)\n",
    "df.head(4)"
   ]
  },
  {
   "cell_type": "code",
   "execution_count": 2,
   "id": "c56334b3",
   "metadata": {},
   "outputs": [
    {
     "data": {
      "text/html": [
       "<div>\n",
       "<style scoped>\n",
       "    .dataframe tbody tr th:only-of-type {\n",
       "        vertical-align: middle;\n",
       "    }\n",
       "\n",
       "    .dataframe tbody tr th {\n",
       "        vertical-align: top;\n",
       "    }\n",
       "\n",
       "    .dataframe thead th {\n",
       "        text-align: right;\n",
       "    }\n",
       "</style>\n",
       "<table border=\"1\" class=\"dataframe\">\n",
       "  <thead>\n",
       "    <tr style=\"text-align: right;\">\n",
       "      <th></th>\n",
       "      <th>title</th>\n",
       "      <th>text</th>\n",
       "      <th>target_topic</th>\n",
       "    </tr>\n",
       "  </thead>\n",
       "  <tbody>\n",
       "    <tr>\n",
       "      <th>0</th>\n",
       "      <td>Informe del Congreso de EEUU apunta a Boeing y...</td>\n",
       "      <td>Una investigación del Congreso de Estados Unid...</td>\n",
       "      <td>Catástrofes y Accidentes</td>\n",
       "    </tr>\n",
       "    <tr>\n",
       "      <th>1</th>\n",
       "      <td>Fin de año y todo el verano bajo E. de Catástr...</td>\n",
       "      <td>Así, Chile pasará Navidad, Año Nuevo y todo el...</td>\n",
       "      <td>Catástrofes y Accidentes</td>\n",
       "    </tr>\n",
       "    <tr>\n",
       "      <th>2</th>\n",
       "      <td>Fue un accidente: Shūeisha justificó que un ed...</td>\n",
       "      <td>El historial de navegación de una persona pued...</td>\n",
       "      <td>Catástrofes y Accidentes</td>\n",
       "    </tr>\n",
       "    <tr>\n",
       "      <th>3</th>\n",
       "      <td>Accidentes de tránsito: uno de cada cinco fall...</td>\n",
       "      <td>Más de dos mil accidentes han involucrado este...</td>\n",
       "      <td>Catástrofes y Accidentes</td>\n",
       "    </tr>\n",
       "    <tr>\n",
       "      <th>4</th>\n",
       "      <td>Hombre de 57 años muere tras accidente en Quel...</td>\n",
       "      <td>Como José Huirimilla fue identificada la perso...</td>\n",
       "      <td>Catástrofes y Accidentes</td>\n",
       "    </tr>\n",
       "    <tr>\n",
       "      <th>...</th>\n",
       "      <td>...</td>\n",
       "      <td>...</td>\n",
       "      <td>...</td>\n",
       "    </tr>\n",
       "    <tr>\n",
       "      <th>1585</th>\n",
       "      <td>Figueroa y vuelta a clases: sostenedores que s...</td>\n",
       "      <td>El ministro de Educación, Raúl Figueroa, reit...</td>\n",
       "      <td>Salud</td>\n",
       "    </tr>\n",
       "    <tr>\n",
       "      <th>1586</th>\n",
       "      <td>Paris por liberación de correos electrónicos a...</td>\n",
       "      <td>El ministro de Salud, Enrique Paris, declinó ...</td>\n",
       "      <td>Salud</td>\n",
       "    </tr>\n",
       "    <tr>\n",
       "      <th>1587</th>\n",
       "      <td>La empresa Pfizer anuncia que su vacuna antico...</td>\n",
       "      <td>La farmacéutica estadounidense Pfizer anunció ...</td>\n",
       "      <td>Salud</td>\n",
       "    </tr>\n",
       "    <tr>\n",
       "      <th>1588</th>\n",
       "      <td>Presidente Piñera pide a Corte Suprema desesti...</td>\n",
       "      <td>Los abogados del Presidente Sebastián Piñera,...</td>\n",
       "      <td>Salud</td>\n",
       "    </tr>\n",
       "    <tr>\n",
       "      <th>1589</th>\n",
       "      <td>Alcalde de Renca critica seguir en cuarentena:...</td>\n",
       "      <td>El alcalde de Renca, Claudio Castro, criticó ...</td>\n",
       "      <td>Salud</td>\n",
       "    </tr>\n",
       "  </tbody>\n",
       "</table>\n",
       "<p>1590 rows × 3 columns</p>\n",
       "</div>"
      ],
      "text/plain": [
       "                                                  title  \\\n",
       "0     Informe del Congreso de EEUU apunta a Boeing y...   \n",
       "1     Fin de año y todo el verano bajo E. de Catástr...   \n",
       "2     Fue un accidente: Shūeisha justificó que un ed...   \n",
       "3     Accidentes de tránsito: uno de cada cinco fall...   \n",
       "4     Hombre de 57 años muere tras accidente en Quel...   \n",
       "...                                                 ...   \n",
       "1585  Figueroa y vuelta a clases: sostenedores que s...   \n",
       "1586  Paris por liberación de correos electrónicos a...   \n",
       "1587  La empresa Pfizer anuncia que su vacuna antico...   \n",
       "1588  Presidente Piñera pide a Corte Suprema desesti...   \n",
       "1589  Alcalde de Renca critica seguir en cuarentena:...   \n",
       "\n",
       "                                                   text  \\\n",
       "0     Una investigación del Congreso de Estados Unid...   \n",
       "1     Así, Chile pasará Navidad, Año Nuevo y todo el...   \n",
       "2     El historial de navegación de una persona pued...   \n",
       "3     Más de dos mil accidentes han involucrado este...   \n",
       "4     Como José Huirimilla fue identificada la perso...   \n",
       "...                                                 ...   \n",
       "1585   El ministro de Educación, Raúl Figueroa, reit...   \n",
       "1586   El ministro de Salud, Enrique Paris, declinó ...   \n",
       "1587  La farmacéutica estadounidense Pfizer anunció ...   \n",
       "1588   Los abogados del Presidente Sebastián Piñera,...   \n",
       "1589   El alcalde de Renca, Claudio Castro, criticó ...   \n",
       "\n",
       "                  target_topic  \n",
       "0     Catástrofes y Accidentes  \n",
       "1     Catástrofes y Accidentes  \n",
       "2     Catástrofes y Accidentes  \n",
       "3     Catástrofes y Accidentes  \n",
       "4     Catástrofes y Accidentes  \n",
       "...                        ...  \n",
       "1585                     Salud  \n",
       "1586                     Salud  \n",
       "1587                     Salud  \n",
       "1588                     Salud  \n",
       "1589                     Salud  \n",
       "\n",
       "[1590 rows x 3 columns]"
      ]
     },
     "execution_count": 2,
     "metadata": {},
     "output_type": "execute_result"
    }
   ],
   "source": [
    "# Columnas importantes\n",
    "data = df[['title', 'text', 'target_topic']]\n",
    "data"
   ]
  },
  {
   "cell_type": "markdown",
   "id": "875dfe8c",
   "metadata": {},
   "source": [
    "1- Mundo, 2- Economía, 3- Política y Conflictos, 4- Ciencias y Tecnología, 5- Catástrofes y Accidentes, 6- Cultura y Artes, 7- Deporte, 8- Ecología y Planeta, 9- Crimen, delitos y Justicia, 10- Salud"
   ]
  },
  {
   "cell_type": "markdown",
   "id": "3aa30245",
   "metadata": {},
   "source": [
    "### Distribución de datos"
   ]
  },
  {
   "cell_type": "code",
   "execution_count": 3,
   "id": "a3cf4053",
   "metadata": {},
   "outputs": [
    {
     "data": {
      "text/plain": [
       "Catástrofes y Accidentes      159\n",
       "Ciencias y Tecnologia         159\n",
       "Crimen, delitos y justicia    159\n",
       "Cultura y Artes               159\n",
       "Deporte                       159\n",
       "Ecologia                      159\n",
       "Economia                      159\n",
       "Mundo                         159\n",
       "Politica y Conflictos         159\n",
       "Salud                         159\n",
       "Name: target_topic, dtype: int64"
      ]
     },
     "execution_count": 3,
     "metadata": {},
     "output_type": "execute_result"
    }
   ],
   "source": [
    "data.target_topic.value_counts()"
   ]
  },
  {
   "cell_type": "code",
   "execution_count": 4,
   "id": "e28df042",
   "metadata": {},
   "outputs": [
    {
     "data": {
      "image/png": "[encoded data removed]",
      "text/plain": [
       "<Figure size 432x288 with 1 Axes>"
      ]
     },
     "metadata": {
      "needs_background": "light"
     },
     "output_type": "display_data"
    }
   ],
   "source": [
    "#Esta es la visualizacion en grafico de barras del dataset completo\n",
    "import warnings\n",
    "warnings.filterwarnings(\"ignore\")\n",
    "import seaborn as sns\n",
    "chart = sns.countplot(data.target_topic)\n",
    "chart.set_xticklabels(chart.get_xticklabels(), rotation=45, horizontalalignment='right')\n",
    "None"
   ]
  },
  {
   "cell_type": "code",
   "execution_count": 5,
   "id": "7968e008",
   "metadata": {},
   "outputs": [
    {
     "data": {
      "text/plain": [
       "Catástrofes y Accidentes      159\n",
       "Ciencias y Tecnologia         159\n",
       "Crimen, delitos y justicia    159\n",
       "Cultura y Artes               159\n",
       "Deporte                       159\n",
       "Ecologia                      159\n",
       "Economia                      159\n",
       "Mundo                         159\n",
       "Politica y Conflictos         159\n",
       "Salud                         159\n",
       "Name: target_topic, dtype: int64"
      ]
     },
     "execution_count": 5,
     "metadata": {},
     "output_type": "execute_result"
    }
   ],
   "source": [
    "#la version anterior tenia 308 noticias por topico, \n",
    "#pero decidimos reducir el numero para elegir noticias más relevantes al tema y mejorar la calidad.\n",
    "data_final = data.groupby('target_topic').sample(n=159, random_state=2)\n",
    "#Se crear un dataset con cantidad igual de cada topico\n",
    "data_final.target_topic.value_counts()"
   ]
  },
  {
   "cell_type": "code",
   "execution_count": 6,
   "id": "0974d99b",
   "metadata": {},
   "outputs": [
    {
     "data": {
      "image/png": "[encoded data removed]",
      "text/plain": [
       "<Figure size 432x288 with 1 Axes>"
      ]
     },
     "metadata": {
      "needs_background": "light"
     },
     "output_type": "display_data"
    }
   ],
   "source": [
    "#Esta seria la visualizacion despues de equilibrar, si no viniera equilibrado desde antes.\n",
    "import warnings\n",
    "warnings.filterwarnings(\"ignore\")\n",
    "import seaborn as sns\n",
    "chart = sns.countplot(data_final.target_topic)\n",
    "chart.set_xticklabels(chart.get_xticklabels(), rotation=45, horizontalalignment='right')\n",
    "None"
   ]
  },
  {
   "cell_type": "code",
   "execution_count": 7,
   "id": "8a7a3674",
   "metadata": {},
   "outputs": [],
   "source": [
    "#Utilizamos el dataset con igual cantidad de cada topico\n",
    "data = data_final"
   ]
  },
  {
   "cell_type": "markdown",
   "id": "53459833",
   "metadata": {},
   "source": [
    "### Label encoding"
   ]
  },
  {
   "cell_type": "code",
   "execution_count": 8,
   "id": "8f0ffcd2",
   "metadata": {},
   "outputs": [],
   "source": [
    "from sklearn import preprocessing \n",
    "label_encoder = preprocessing.LabelEncoder() \n",
    "data['topic_num']= label_encoder.fit_transform(data['target_topic']) "
   ]
  },
  {
   "cell_type": "code",
   "execution_count": 9,
   "id": "fcc9f68b",
   "metadata": {},
   "outputs": [
    {
     "data": {
      "text/html": [
       "<div>\n",
       "<style scoped>\n",
       "    .dataframe tbody tr th:only-of-type {\n",
       "        vertical-align: middle;\n",
       "    }\n",
       "\n",
       "    .dataframe tbody tr th {\n",
       "        vertical-align: top;\n",
       "    }\n",
       "\n",
       "    .dataframe thead th {\n",
       "        text-align: right;\n",
       "    }\n",
       "</style>\n",
       "<table border=\"1\" class=\"dataframe\">\n",
       "  <thead>\n",
       "    <tr style=\"text-align: right;\">\n",
       "      <th></th>\n",
       "      <th>title</th>\n",
       "      <th>text</th>\n",
       "      <th>target_topic</th>\n",
       "      <th>topic_num</th>\n",
       "    </tr>\n",
       "  </thead>\n",
       "  <tbody>\n",
       "    <tr>\n",
       "      <th>12</th>\n",
       "      <td>Camila Recabarren revela que sufrió accidente ...</td>\n",
       "      <td>Hace un par de días, Camila Recabarren viajó a...</td>\n",
       "      <td>Catástrofes y Accidentes</td>\n",
       "      <td>0</td>\n",
       "    </tr>\n",
       "    <tr>\n",
       "      <th>3</th>\n",
       "      <td>Accidentes de tránsito: uno de cada cinco fall...</td>\n",
       "      <td>Más de dos mil accidentes han involucrado este...</td>\n",
       "      <td>Catástrofes y Accidentes</td>\n",
       "      <td>0</td>\n",
       "    </tr>\n",
       "    <tr>\n",
       "      <th>153</th>\n",
       "      <td>Asaltante protagoniza accidente de tránsito qu...</td>\n",
       "      <td>Durante la jornada de este miércoles, Carabine...</td>\n",
       "      <td>Catástrofes y Accidentes</td>\n",
       "      <td>0</td>\n",
       "    </tr>\n",
       "    <tr>\n",
       "      <th>6</th>\n",
       "      <td>Dos accidentes se registran en Ruta 5 Sur ante...</td>\n",
       "      <td>La mañana de este jueves, cerca de las 08:30 h...</td>\n",
       "      <td>Catástrofes y Accidentes</td>\n",
       "      <td>0</td>\n",
       "    </tr>\n",
       "    <tr>\n",
       "      <th>129</th>\n",
       "      <td>Fatal accidente deja un fallecido y un joven e...</td>\n",
       "      <td>La madrugada de este sábado, un conductor muri...</td>\n",
       "      <td>Catástrofes y Accidentes</td>\n",
       "      <td>0</td>\n",
       "    </tr>\n",
       "    <tr>\n",
       "      <th>...</th>\n",
       "      <td>...</td>\n",
       "      <td>...</td>\n",
       "      <td>...</td>\n",
       "      <td>...</td>\n",
       "    </tr>\n",
       "    <tr>\n",
       "      <th>1432</th>\n",
       "      <td>CureVac asegura positivos datos preclínicos pa...</td>\n",
       "      <td>La compañía biotecnológica alemana CureVac dij...</td>\n",
       "      <td>Salud</td>\n",
       "      <td>9</td>\n",
       "    </tr>\n",
       "    <tr>\n",
       "      <th>1489</th>\n",
       "      <td>EE.UU. lanza nuevo estudio que usa tres fármac...</td>\n",
       "      <td>El Gobierno de EE.UU. lanzó este viernes un en...</td>\n",
       "      <td>Salud</td>\n",
       "      <td>9</td>\n",
       "    </tr>\n",
       "    <tr>\n",
       "      <th>1579</th>\n",
       "      <td>Abogado de Mañalich prepara querella contra ex...</td>\n",
       "      <td>El abogado de Jaime Mañalich, Gabriel Zaliasn...</td>\n",
       "      <td>Salud</td>\n",
       "      <td>9</td>\n",
       "    </tr>\n",
       "    <tr>\n",
       "      <th>1552</th>\n",
       "      <td>Bono Clase Media: 15 mil personas devolvieron ...</td>\n",
       "      <td>El Servicio de Impuestos Internos (SII) infor...</td>\n",
       "      <td>Salud</td>\n",
       "      <td>9</td>\n",
       "    </tr>\n",
       "    <tr>\n",
       "      <th>1467</th>\n",
       "      <td>Gremio gastronómico advierte riesgo de quiebra...</td>\n",
       "      <td>Tras las últimas manifestaciones que se han d...</td>\n",
       "      <td>Salud</td>\n",
       "      <td>9</td>\n",
       "    </tr>\n",
       "  </tbody>\n",
       "</table>\n",
       "<p>1590 rows × 4 columns</p>\n",
       "</div>"
      ],
      "text/plain": [
       "                                                  title  \\\n",
       "12    Camila Recabarren revela que sufrió accidente ...   \n",
       "3     Accidentes de tránsito: uno de cada cinco fall...   \n",
       "153   Asaltante protagoniza accidente de tránsito qu...   \n",
       "6     Dos accidentes se registran en Ruta 5 Sur ante...   \n",
       "129   Fatal accidente deja un fallecido y un joven e...   \n",
       "...                                                 ...   \n",
       "1432  CureVac asegura positivos datos preclínicos pa...   \n",
       "1489  EE.UU. lanza nuevo estudio que usa tres fármac...   \n",
       "1579  Abogado de Mañalich prepara querella contra ex...   \n",
       "1552  Bono Clase Media: 15 mil personas devolvieron ...   \n",
       "1467  Gremio gastronómico advierte riesgo de quiebra...   \n",
       "\n",
       "                                                   text  \\\n",
       "12    Hace un par de días, Camila Recabarren viajó a...   \n",
       "3     Más de dos mil accidentes han involucrado este...   \n",
       "153   Durante la jornada de este miércoles, Carabine...   \n",
       "6     La mañana de este jueves, cerca de las 08:30 h...   \n",
       "129   La madrugada de este sábado, un conductor muri...   \n",
       "...                                                 ...   \n",
       "1432  La compañía biotecnológica alemana CureVac dij...   \n",
       "1489  El Gobierno de EE.UU. lanzó este viernes un en...   \n",
       "1579   El abogado de Jaime Mañalich, Gabriel Zaliasn...   \n",
       "1552   El Servicio de Impuestos Internos (SII) infor...   \n",
       "1467   Tras las últimas manifestaciones que se han d...   \n",
       "\n",
       "                  target_topic  topic_num  \n",
       "12    Catástrofes y Accidentes          0  \n",
       "3     Catástrofes y Accidentes          0  \n",
       "153   Catástrofes y Accidentes          0  \n",
       "6     Catástrofes y Accidentes          0  \n",
       "129   Catástrofes y Accidentes          0  \n",
       "...                        ...        ...  \n",
       "1432                     Salud          9  \n",
       "1489                     Salud          9  \n",
       "1579                     Salud          9  \n",
       "1552                     Salud          9  \n",
       "1467                     Salud          9  \n",
       "\n",
       "[1590 rows x 4 columns]"
      ]
     },
     "execution_count": 9,
     "metadata": {},
     "output_type": "execute_result"
    }
   ],
   "source": [
    "data"
   ]
  },
  {
   "cell_type": "markdown",
   "id": "c2ee8cf3",
   "metadata": {},
   "source": [
    "## Preprocesamiento"
   ]
  },
  {
   "cell_type": "markdown",
   "id": "5909e353",
   "metadata": {},
   "source": [
    "### Parsear texto"
   ]
  },
  {
   "cell_type": "code",
   "execution_count": 10,
   "id": "c3b40a12",
   "metadata": {},
   "outputs": [],
   "source": [
    "#Removemos elementos sin significado.\n",
    "import re\n",
    "import nltk\n",
    "from nltk.corpus import stopwords\n",
    "from nltk.tokenize import word_tokenize\n",
    "\n",
    "def process_text(text):\n",
    "    text = text.lower().replace('\\n',' ').replace('\\r','').strip()\n",
    "    text = re.sub(' +', ' ', text)\n",
    "    text = re.sub(r'[^\\w\\s]','',text)\n",
    "    \n",
    "    \n",
    "    stop_words = set(stopwords.words('spanish')) \n",
    "    word_tokens = word_tokenize(text) \n",
    "    filtered_sentence = [] \n",
    "    for w in word_tokens: \n",
    "        if w not in stop_words: \n",
    "            filtered_sentence.append(w) \n",
    "    \n",
    "    text = \" \".join(filtered_sentence)\n",
    "    return text"
   ]
  },
  {
   "cell_type": "code",
   "execution_count": 11,
   "id": "ca5c96e8",
   "metadata": {},
   "outputs": [],
   "source": [
    "data['text_parsed'] = data['text'].apply(process_text)"
   ]
  },
  {
   "cell_type": "markdown",
   "id": "66b94d5d",
   "metadata": {},
   "source": [
    "### Partición de los datos"
   ]
  },
  {
   "cell_type": "code",
   "execution_count": 12,
   "id": "658dee2e",
   "metadata": {},
   "outputs": [],
   "source": [
    "from sklearn.model_selection import train_test_split\n",
    "\n",
    "X = data['text_parsed'] # lo que se quiere analizar\n",
    "ylabels = data['topic_num'] # etiquetas\n",
    "\n",
    "X_train, X_test, y_train, y_test = train_test_split(X, ylabels, test_size=0.3) #split para test/train"
   ]
  },
  {
   "cell_type": "code",
   "execution_count": 13,
   "id": "89b72db0",
   "metadata": {},
   "outputs": [],
   "source": [
    "from spacy.lang.es import Spanish\n",
    "\n",
    "\n",
    "# Puntuacion\n",
    "punctuations = [\".\",\",\",\"!\",\"?\", \")\",\"(\",\"#\",\"&\",\" \", \":\", \"'\", \"$\", \"/\",'\"', \"}\",\"{\", \";\"]\n",
    "\n",
    "# Importamos lista de stopwords\n",
    "stop_words = set(stopwords.words('spanish'))\n",
    "\n",
    "# Tokenizador\n",
    "parser = Spanish()\n",
    "\n",
    "def spacy_tokenizer(sentence):\n",
    "    mytokens = parser(sentence)\n",
    "    mytokens = [word.lower_ for word in mytokens]\n",
    "    mytokens = [ word for word in mytokens if word not in stop_words and word not in punctuations ]\n",
    "    return mytokens"
   ]
  },
  {
   "cell_type": "markdown",
   "id": "f0eb041a",
   "metadata": {},
   "source": [
    "#### Vectorización de los textos en BoW o TF-IDF, con scikit-learn"
   ]
  },
  {
   "cell_type": "code",
   "execution_count": 14,
   "id": "583abf4e",
   "metadata": {},
   "outputs": [],
   "source": [
    "#Vectorizamos\n",
    "from sklearn.feature_extraction.text import CountVectorizer,TfidfVectorizer\n",
    "bow_vector = CountVectorizer(tokenizer = spacy_tokenizer, ngram_range=(1,1))\n",
    "tfidf_vector = TfidfVectorizer(tokenizer = spacy_tokenizer, ngram_range=(1,1))"
   ]
  },
  {
   "cell_type": "markdown",
   "id": "7a0116ff",
   "metadata": {},
   "source": [
    "## Entrenamiento "
   ]
  },
  {
   "cell_type": "code",
   "execution_count": 15,
   "id": "a1ec96de",
   "metadata": {},
   "outputs": [
    {
     "data": {
      "text/plain": [
       "Pipeline(steps=[('preprocessing',\n",
       "                 CountVectorizer(tokenizer=<function spacy_tokenizer at 0x7fa2e1b08a70>)),\n",
       "                ('regression-ML',\n",
       "                 LogisticRegression(max_iter=1000, multi_class='ovr',\n",
       "                                    random_state=42))])"
      ]
     },
     "execution_count": 15,
     "metadata": {},
     "output_type": "execute_result"
    }
   ],
   "source": [
    "from sklearn.linear_model import LogisticRegression # Regresion Logística\n",
    "from sklearn.pipeline import Pipeline\n",
    "\n",
    "# Clasificador\n",
    "modelLR = LogisticRegression(random_state = 42, multi_class = 'ovr', class_weight=None, max_iter=1000)\n",
    "\n",
    "# Pipeline\n",
    "model1 = Pipeline([('preprocessing', bow_vector),\n",
    "                 ('regression-ML', modelLR)])\n",
    "\n",
    "# Modelos\n",
    "model1.fit(X_train,y_train)"
   ]
  },
  {
   "cell_type": "code",
   "execution_count": 16,
   "id": "bad84d21",
   "metadata": {},
   "outputs": [
    {
     "data": {
      "text/plain": [
       "Pipeline(steps=[('preprocessing',\n",
       "                 TfidfVectorizer(tokenizer=<function spacy_tokenizer at 0x7fa2e1b08a70>)),\n",
       "                ('regression-ML',\n",
       "                 LogisticRegression(max_iter=1000, multi_class='ovr',\n",
       "                                    random_state=42))])"
      ]
     },
     "execution_count": 16,
     "metadata": {},
     "output_type": "execute_result"
    }
   ],
   "source": [
    "modelLR = LogisticRegression(random_state = 42, multi_class = 'ovr', class_weight=None, max_iter=1000)\n",
    "\n",
    "model2 = Pipeline([('preprocessing', tfidf_vector),\n",
    "                 ('regression-ML', modelLR)])\n",
    "\n",
    "model2.fit(X_train,y_train)"
   ]
  },
  {
   "cell_type": "code",
   "execution_count": 17,
   "id": "4c8a31c3",
   "metadata": {},
   "outputs": [
    {
     "data": {
      "text/plain": [
       "Pipeline(steps=[('preprocessing',\n",
       "                 CountVectorizer(tokenizer=<function spacy_tokenizer at 0x7fa2e1b08a70>)),\n",
       "                ('regression-ML', RandomForestClassifier(random_state=0))])"
      ]
     },
     "execution_count": 17,
     "metadata": {},
     "output_type": "execute_result"
    }
   ],
   "source": [
    "from sklearn.ensemble import RandomForestClassifier\n",
    "modelRF = RandomForestClassifier(random_state=0)\n",
    "\n",
    "model3 = Pipeline([('preprocessing', bow_vector),\n",
    "                 ('regression-ML', modelRF)])\n",
    "\n",
    "model3.fit(X_train,y_train)"
   ]
  },
  {
   "cell_type": "code",
   "execution_count": 18,
   "id": "402c01fd",
   "metadata": {},
   "outputs": [
    {
     "data": {
      "text/plain": [
       "Pipeline(steps=[('preprocessing',\n",
       "                 TfidfVectorizer(tokenizer=<function spacy_tokenizer at 0x7fa2e1b08a70>)),\n",
       "                ('regression-ML', RandomForestClassifier(random_state=0))])"
      ]
     },
     "execution_count": 18,
     "metadata": {},
     "output_type": "execute_result"
    }
   ],
   "source": [
    "modelRF = RandomForestClassifier(random_state=0)\n",
    "model4 = Pipeline([('preprocessing', tfidf_vector),\n",
    "                 ('regression-ML', modelRF)])\n",
    "\n",
    "model4.fit(X_train,y_train)"
   ]
  },
  {
   "cell_type": "markdown",
   "id": "bebc93c3",
   "metadata": {},
   "source": [
    "# Evaluación modelo "
   ]
  },
  {
   "cell_type": "markdown",
   "id": "123a21d9",
   "metadata": {},
   "source": [
    "### Regresion logistica BOW"
   ]
  },
  {
   "cell_type": "code",
   "execution_count": 19,
   "id": "dc66b96e",
   "metadata": {},
   "outputs": [
    {
     "name": "stdout",
     "output_type": "stream",
     "text": [
      "Accuracy:  0.779874213836478\n",
      "              precision    recall  f1-score   support\n",
      "\n",
      "           0       0.83      0.88      0.85        43\n",
      "           1       0.82      0.80      0.81        50\n",
      "           2       0.62      0.54      0.58        48\n",
      "           3       0.98      0.89      0.93        47\n",
      "           4       0.80      0.90      0.85        49\n",
      "           5       0.82      0.94      0.88        49\n",
      "           6       0.71      0.67      0.69        52\n",
      "           7       0.73      0.70      0.71        46\n",
      "           8       0.73      0.97      0.84        39\n",
      "           9       0.76      0.57      0.65        54\n",
      "\n",
      "    accuracy                           0.78       477\n",
      "   macro avg       0.78      0.79      0.78       477\n",
      "weighted avg       0.78      0.78      0.78       477\n",
      "\n"
     ]
    },
    {
     "data": {
      "text/plain": [
       "<AxesSubplot:xlabel='topic_num', ylabel='row_0'>"
      ]
     },
     "execution_count": 19,
     "metadata": {},
     "output_type": "execute_result"
    },
    {
     "data": {
      "image/png": "[encoded data removed]",
      "text/plain": [
       "<Figure size 1080x360 with 2 Axes>"
      ]
     },
     "metadata": {
      "needs_background": "light"
     },
     "output_type": "display_data"
    }
   ],
   "source": [
    "# Predicciones con el dataset.\n",
    "from sklearn.metrics import accuracy_score, classification_report\n",
    "import matplotlib.pyplot as plt\n",
    "\n",
    "predicted = model1.predict(X_test)\n",
    "print('Accuracy: ', accuracy_score(y_test, predicted))\n",
    "print(classification_report(y_test, predicted))\n",
    "confusion_matrix = pd.crosstab(predicted, y_test)\n",
    "\n",
    "fig = plt.figure(figsize=(15,5))\n",
    "ax1 = plt.subplot(121)\n",
    "sns.heatmap(confusion_matrix, annot=True, cmap='Blues', fmt='g')"
   ]
  },
  {
   "cell_type": "markdown",
   "id": "c50e707e",
   "metadata": {},
   "source": [
    "Para comenzar, la regresion logistica con bag of words tiene en general un buen desempeño. El tema de peor desempeño fue 2 (crimen), lo que se podria explicar porque es uno de los temas donde faltaron topicos y se tubo que recurrir a palabras clave, y su dependencia en estas produce bajo recall."
   ]
  },
  {
   "cell_type": "markdown",
   "id": "18fdcee6",
   "metadata": {},
   "source": [
    "### Regresión logistica TF-IDF"
   ]
  },
  {
   "cell_type": "code",
   "execution_count": 20,
   "id": "fe66fe30",
   "metadata": {},
   "outputs": [
    {
     "name": "stdout",
     "output_type": "stream",
     "text": [
      "Accuracy:  0.8050314465408805\n",
      "              precision    recall  f1-score   support\n",
      "\n",
      "           0       0.88      0.84      0.86        43\n",
      "           1       0.84      0.74      0.79        50\n",
      "           2       0.80      0.58      0.67        48\n",
      "           3       0.92      0.98      0.95        47\n",
      "           4       0.92      0.92      0.92        49\n",
      "           5       0.82      0.96      0.89        49\n",
      "           6       0.70      0.75      0.72        52\n",
      "           7       0.82      0.78      0.80        46\n",
      "           8       0.76      0.95      0.84        39\n",
      "           9       0.63      0.61      0.62        54\n",
      "\n",
      "    accuracy                           0.81       477\n",
      "   macro avg       0.81      0.81      0.81       477\n",
      "weighted avg       0.81      0.81      0.80       477\n",
      "\n"
     ]
    },
    {
     "data": {
      "text/plain": [
       "<AxesSubplot:xlabel='topic_num', ylabel='row_0'>"
      ]
     },
     "execution_count": 20,
     "metadata": {},
     "output_type": "execute_result"
    },
    {
     "data": {
      "image/png": "[encoded data removed]",
      "text/plain": [
       "<Figure size 1080x360 with 2 Axes>"
      ]
     },
     "metadata": {
      "needs_background": "light"
     },
     "output_type": "display_data"
    }
   ],
   "source": [
    "from sklearn.metrics import accuracy_score, classification_report\n",
    "\n",
    "predicted = model2.predict(X_test)\n",
    "print('Accuracy: ', accuracy_score(y_test, predicted))\n",
    "print(classification_report(y_test, predicted))\n",
    "confusion_matrix = pd.crosstab(predicted, y_test)\n",
    "\n",
    "\n",
    "fig = plt.figure(figsize=(15,5))\n",
    "ax1 = plt.subplot(121)\n",
    "sns.heatmap(confusion_matrix, annot=True, cmap='Blues', fmt='g')"
   ]
  },
  {
   "cell_type": "markdown",
   "id": "45b6e2d1",
   "metadata": {},
   "source": [
    "Comparados con RL-BOW, el mayor aumento del f1-score se produce 4(deporte). Esto podria indicar que en noticias deportivas hayan ciertas palabras que tambien son comunes en otras pero se repiten más. Por ejemplo si alguien dice \"partido\" podría ser una articulo de politica, pero si se repite varias veces es que estan hablando de partidos de futbol por ejemplo. En general su desempeño fue similar."
   ]
  },
  {
   "cell_type": "markdown",
   "id": "cef416da",
   "metadata": {},
   "source": [
    "### Random Forest BOW"
   ]
  },
  {
   "cell_type": "code",
   "execution_count": 21,
   "id": "e52dad3a",
   "metadata": {},
   "outputs": [
    {
     "name": "stdout",
     "output_type": "stream",
     "text": [
      "Accuracy:  0.7672955974842768\n",
      "              precision    recall  f1-score   support\n",
      "\n",
      "           0       0.83      0.79      0.81        43\n",
      "           1       0.82      0.66      0.73        50\n",
      "           2       0.76      0.58      0.66        48\n",
      "           3       0.98      0.89      0.93        47\n",
      "           4       0.72      1.00      0.84        49\n",
      "           5       0.85      0.94      0.89        49\n",
      "           6       0.75      0.63      0.69        52\n",
      "           7       0.78      0.70      0.74        46\n",
      "           8       0.76      0.95      0.84        39\n",
      "           9       0.53      0.59      0.56        54\n",
      "\n",
      "    accuracy                           0.77       477\n",
      "   macro avg       0.78      0.77      0.77       477\n",
      "weighted avg       0.77      0.77      0.76       477\n",
      "\n"
     ]
    },
    {
     "data": {
      "text/plain": [
       "<AxesSubplot:xlabel='topic_num', ylabel='row_0'>"
      ]
     },
     "execution_count": 21,
     "metadata": {},
     "output_type": "execute_result"
    },
    {
     "data": {
      "image/png": "[encoded data removed]",
      "text/plain": [
       "<Figure size 1080x360 with 2 Axes>"
      ]
     },
     "metadata": {
      "needs_background": "light"
     },
     "output_type": "display_data"
    }
   ],
   "source": [
    "from sklearn.metrics import accuracy_score, classification_report\n",
    "\n",
    "predicted = model3.predict(X_test)\n",
    "print('Accuracy: ', accuracy_score(y_test, predicted))\n",
    "print(classification_report(y_test, predicted))\n",
    "confusion_matrix = pd.crosstab(predicted, y_test)\n",
    "\n",
    "fig = plt.figure(figsize=(15,5))\n",
    "ax1 = plt.subplot(121)\n",
    "sns.heatmap(confusion_matrix, annot=True, cmap='Blues', fmt='g')"
   ]
  },
  {
   "cell_type": "markdown",
   "id": "4e4c7f65",
   "metadata": {},
   "source": [
    "En general tiene peor desempeño que la regresion logistica, esto podría ser porque el bosque hereda debilidades del arbol de decision. Como las solución esta basada en el optimo local de cada nodo, y la clasificación de texto involucra multiples factores y vectores de palabras, puede que el bosque tenga problemas al clasificar, o se sobreajusten los arboles de manera que no se pueda compensar con el bosque."
   ]
  },
  {
   "cell_type": "markdown",
   "id": "cd4c2c56",
   "metadata": {},
   "source": [
    "### Random Forest TF-IDF"
   ]
  },
  {
   "cell_type": "code",
   "execution_count": 22,
   "id": "83952d10",
   "metadata": {},
   "outputs": [
    {
     "name": "stdout",
     "output_type": "stream",
     "text": [
      "Accuracy:  0.7568134171907757\n",
      "              precision    recall  f1-score   support\n",
      "\n",
      "           0       0.81      0.79      0.80        43\n",
      "           1       0.76      0.68      0.72        50\n",
      "           2       0.72      0.48      0.57        48\n",
      "           3       1.00      0.83      0.91        47\n",
      "           4       0.72      0.98      0.83        49\n",
      "           5       0.81      0.96      0.88        49\n",
      "           6       0.78      0.67      0.72        52\n",
      "           7       0.78      0.67      0.72        46\n",
      "           8       0.68      0.97      0.80        39\n",
      "           9       0.60      0.59      0.60        54\n",
      "\n",
      "    accuracy                           0.76       477\n",
      "   macro avg       0.76      0.76      0.75       477\n",
      "weighted avg       0.76      0.76      0.75       477\n",
      "\n"
     ]
    },
    {
     "data": {
      "text/plain": [
       "<AxesSubplot:xlabel='topic_num', ylabel='row_0'>"
      ]
     },
     "execution_count": 22,
     "metadata": {},
     "output_type": "execute_result"
    },
    {
     "data": {
      "image/png": "[encoded data removed]",
      "text/plain": [
       "<Figure size 1080x360 with 2 Axes>"
      ]
     },
     "metadata": {
      "needs_background": "light"
     },
     "output_type": "display_data"
    }
   ],
   "source": [
    "from sklearn.metrics import accuracy_score, classification_report\n",
    "\n",
    "predicted = model4.predict(X_test)\n",
    "print('Accuracy: ', accuracy_score(y_test, predicted))\n",
    "print(classification_report(y_test, predicted))\n",
    "confusion_matrix = pd.crosstab(predicted, y_test)\n",
    "\n",
    "fig = plt.figure(figsize=(15,5))\n",
    "ax1 = plt.subplot(121)\n",
    "sns.heatmap(confusion_matrix, annot=True, cmap='Blues', fmt='g')"
   ]
  },
  {
   "cell_type": "markdown",
   "id": "ac94bc7e",
   "metadata": {},
   "source": [
    "En este caso, considerar las frecuencias empeora al resultado del random forest. Entonces puede que las frecuencias simplemente no afecte al arbol o incluso que confunda más al modelo, al complicar la clasificación en los nodos de los arboles."
   ]
  },
  {
   "cell_type": "code",
   "execution_count": 23,
   "id": "aabcbabb",
   "metadata": {},
   "outputs": [],
   "source": [
    "import pickle\n",
    "pickle.dump(model1, open(\"ICSP-RL-BOW-V2\", 'wb'))\n",
    "pickle.dump(model2, open(\"ICSP-RL-IDF-V2\", 'wb'))\n",
    "pickle.dump(model3, open(\"ICSP-RF-BOW-V2\", 'wb'))\n",
    "pickle.dump(model4, open(\"ICSP-RF-IDF-V2\", 'wb'))"
   ]
  }
 ],
 "metadata": {
  "kernelspec": {
   "display_name": "Python 3 (ipykernel)",
   "language": "python",
   "name": "python3"
  },
  "language_info": {
   "codemirror_mode": {
    "name": "ipython",
    "version": 3
   },
   "file_extension": ".py",
   "mimetype": "text/x-python",
   "name": "python",
   "nbconvert_exporter": "python",
   "pygments_lexer": "ipython3",
   "version": "3.7.11"
  }
 },
 "nbformat": 4,
 "nbformat_minor": 5
}
